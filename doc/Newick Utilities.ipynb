{
 "metadata": {
  "name": "Newick Utilities",
  "signature": "sha256:e5ac2fd8b4f052cd9971b6c0fd874360474a08cbdd57eb0d8fa33f32020436b9"
 },
 "nbformat": 3,
 "nbformat_minor": 0,
 "worksheets": [
  {
   "cells": [
    {
     "cell_type": "markdown",
     "metadata": {},
     "source": [
      "# An Interactive tour of the Newick Utilities"
     ]
    },
    {
     "cell_type": "markdown",
     "metadata": {},
     "source": [
      "This document is an [IPython notebook](http://ipython.org/ipython-doc/stable/notebook/index.html). It mixes explanatory text and _code cells_ where you can try out commands interactively.\n",
      "\n",
      "The Newick Utilities are available from:\n",
      "\n",
      "* [http://github.com/tjunier/newick_utils](http://github.com/tjunier/newick_utilities) - latest\n",
      "  * [manual](https://github.com/tjunier/newick_utils/blob/master/doc/manual.pdf)\n",
      "* [http://cegg.unige.ch/newick_utils](http://cegg.unige.ch/newick_utils) - Older, binaries"
     ]
    },
    {
     "cell_type": "markdown",
     "metadata": {},
     "source": [
      "## Contents\n",
      "* Installing\n",
      "* Basics\n",
      "* Simple Operations\n",
      "* Large numbers of Trees\n",
      "* Large trees"
     ]
    },
    {
     "cell_type": "markdown",
     "metadata": {},
     "source": [
      "## Basics"
     ]
    },
    {
     "cell_type": "markdown",
     "metadata": {},
     "source": [
      "The Newick Utilities are a set of Unix programs for rapidly **processing** phylogenetic trees.\n",
      "\n",
      "They perform tasks such as:\n",
      "\n",
      "* rooting, re-rooting and de-rooting\n",
      "* extracting  clades and finding common ancestors\n",
      "* extracting topology\n",
      "* ordering\n",
      "* computing bootstrap support\n",
      "* extracting branch lengths\n",
      "* simplifying\n",
      "* general edition\n",
      "* ...\n",
      "* displaying\n",
      "\n",
      "\n",
      "They were designed to:\n",
      "\n",
      "* handle **any number of trees of any size**\n",
      "* **facilitate automation**\n",
      "* be reasonably fast\n",
      "\n",
      "$\\rightarrow$  they have a **command-line interface** (CLI), that is, they work in the shell, just like `ls`, `grep`, and countless other programs (type `Shift-Enter` or `Ctrl-Enter` to run a cell):"
     ]
    },
    {
     "cell_type": "code",
     "collapsed": false,
     "input": [
      "ls -l\n"
     ],
     "language": "python",
     "metadata": {},
     "outputs": []
    },
    {
     "cell_type": "markdown",
     "metadata": {},
     "source": [
      "\n",
      "\n",
      "As a first example, let's look at a tree. Consider this phylogeny of (Old-world) primates:"
     ]
    },
    {
     "cell_type": "code",
     "collapsed": false,
     "input": [
      "cat catarrhini"
     ],
     "language": "python",
     "metadata": {},
     "outputs": []
    },
    {
     "cell_type": "markdown",
     "metadata": {},
     "source": [
      "For humans, this is unreadable... so let's display it as a graph:\n",
      "(**note**: the `%%bash` part is ipython syntax, not Bash! In a shell you don't need this.)"
     ]
    },
    {
     "cell_type": "code",
     "collapsed": false,
     "input": [
      "%%bash  \n",
      "nw_display catarrhini "
     ],
     "language": "python",
     "metadata": {},
     "outputs": []
    },
    {
     "cell_type": "markdown",
     "metadata": {},
     "source": [
      "`nw_display` can do much more than this, and we'll go back to it later. For now, let's see some general features of the Newick Utilities."
     ]
    },
    {
     "cell_type": "heading",
     "level": 3,
     "metadata": {},
     "source": [
      "Help"
     ]
    },
    {
     "cell_type": "markdown",
     "metadata": {},
     "source": [
      "All the utilities accept option `-h`, which prints a help page and exits:"
     ]
    },
    {
     "cell_type": "code",
     "collapsed": false,
     "input": [
      "%%bash\n",
      "nw_display -h | head -15"
     ],
     "language": "python",
     "metadata": {},
     "outputs": []
    },
    {
     "cell_type": "heading",
     "level": 3,
     "metadata": {},
     "source": [
      "Syntax"
     ]
    },
    {
     "cell_type": "markdown",
     "metadata": {},
     "source": [
      "`$ <nw_util> [options] <tree-file> [other arguments]`\n",
      "\n",
      "That is:\n",
      "\n",
      "1. possibly some options\n",
      "2. **tree filename** (or `-` for standard input)\n",
      "3. possiby other arguments\n",
      "\n",
      "The tree file must contain Newick-formatted trees."
     ]
    },
    {
     "cell_type": "code",
     "collapsed": false,
     "input": [
      "%%bash\n",
      "nw_display catarrhini # simple"
     ],
     "language": "python",
     "metadata": {},
     "outputs": []
    },
    {
     "cell_type": "code",
     "collapsed": false,
     "input": [
      "%%bash\n",
      "cat catarrhini | nw_display - # or nw_display - < catarrhini"
     ],
     "language": "python",
     "metadata": {},
     "outputs": []
    },
    {
     "cell_type": "markdown",
     "metadata": {},
     "source": [
      "In typical Unix style, *options* alter the program's behaviour:"
     ]
    },
    {
     "cell_type": "code",
     "collapsed": false,
     "input": [
      "%%bash\n",
      "nw_display -w 40 catarrhini # -w changes the width"
     ],
     "language": "python",
     "metadata": {},
     "outputs": []
    },
    {
     "cell_type": "heading",
     "level": 3,
     "metadata": {},
     "source": [
      "Filter Behaviour"
     ]
    },
    {
     "cell_type": "markdown",
     "metadata": {},
     "source": [
      "The utilities:\n",
      "\n",
      "* write to standard output\n",
      "* (can) read from standard input (Newick-formatted trees)\n",
      "* read and write text (including SVG and Newick)\n",
      "\n",
      "This means that they are **Unix shell filters**, and can be strung into shell pipelines, and mixed with other filters. For example, suppose we want to make sure that there are no duplicates among a tree's labels. We can use the usual shell tools for that."
     ]
    },
    {
     "cell_type": "code",
     "collapsed": true,
     "input": [
      "%%bash\n",
      "nw_labels hiv_nonredundant.nw | sort | uniq -d # try hiv_redundant.nw as well..."
     ],
     "language": "python",
     "metadata": {},
     "outputs": []
    },
    {
     "cell_type": "markdown",
     "metadata": {},
     "source": [
      "This is one way in which the Newick utilities facilitate automation. Another is that they can process any number of trees of any size."
     ]
    },
    {
     "cell_type": "markdown",
     "metadata": {},
     "source": [
      "## Installing"
     ]
    },
    {
     "cell_type": "markdown",
     "metadata": {},
     "source": [
      "It's the usual GNU Autotools commands (can also use CMake for those who prefer it):\n",
      "\n",
      "```\n",
      "tar xzf newick_utils-x.y.tar.gz\n",
      "cd newick_utils\n",
      "autoreconf -fi # only needed when cloning from GitHub\n",
      "./configure\n",
      "make\n",
      "make check\n",
      "sudo make install\n",
      "```\n"
     ]
    },
    {
     "cell_type": "heading",
     "level": 2,
     "metadata": {},
     "source": [
      "Simple Operations"
     ]
    },
    {
     "cell_type": "markdown",
     "metadata": {},
     "source": [
      "### SVG Graphics\n",
      "\n",
      "We have already seen how to show a tree in teh shell with `nw_display`. With option `-s`, this program produces SVG:"
     ]
    },
    {
     "cell_type": "code",
     "collapsed": false,
     "input": [
      "%%bash\n",
      "nw_display -s catarrhini > catarrhini.svg"
     ],
     "language": "python",
     "metadata": {},
     "outputs": []
    },
    {
     "cell_type": "code",
     "collapsed": false,
     "input": [
      "from IPython.display import SVG\n",
      "SVG(filename='catarrhini.svg')"
     ],
     "language": "python",
     "metadata": {},
     "outputs": []
    },
    {
     "cell_type": "markdown",
     "metadata": {},
     "source": [
      "`nw_display` has many options (look at the help page). The SVG mode supports essentially all the text-mode options (when they make sense). Among the SVG-specific options is `-r`, which produces radial trees:"
     ]
    },
    {
     "cell_type": "code",
     "collapsed": false,
     "input": [
      "%%bash\n",
      "nw_display -sr -w 600 catarrhini > catarrhini_radial.svg"
     ],
     "language": "python",
     "metadata": {},
     "outputs": []
    },
    {
     "cell_type": "code",
     "collapsed": false,
     "input": [
      "SVG(filename='catarrhini_radial.svg')"
     ],
     "language": "python",
     "metadata": {},
     "outputs": []
    },
    {
     "cell_type": "markdown",
     "metadata": {},
     "source": [
      "## Large Trees"
     ]
    },
    {
     "cell_type": "markdown",
     "metadata": {},
     "source": [
      "#### CSS Styling\n",
      "\n",
      "SVG supports CSS styles, and `nw_display` can add CSS styles to an SVG tree. This is done via a _style map_ that specifies arbitrary style for nodes (or whole clades):"
     ]
    },
    {
     "cell_type": "code",
     "collapsed": false,
     "input": [
      "cat css.map"
     ],
     "language": "python",
     "metadata": {},
     "outputs": []
    },
    {
     "cell_type": "code",
     "collapsed": false,
     "input": [
      "%%bash\n",
      "nw_display -s -c css.map catarrhini > catarrhini_css.svg"
     ],
     "language": "python",
     "metadata": {},
     "outputs": []
    },
    {
     "cell_type": "code",
     "collapsed": false,
     "input": [
      "SVG(filename='catarrhini_css.svg')"
     ],
     "language": "python",
     "metadata": {},
     "outputs": []
    },
    {
     "cell_type": "markdown",
     "metadata": {},
     "source": [
      "### Rerooting\n",
      "\n",
      "Tree-building programs cannot always find the root of a tree, so you may need to re-root a tree to make sure it is correctly rooted. `nw_reroot` does just that. Here is a tree that is incorrectly rooted:"
     ]
    },
    {
     "cell_type": "code",
     "collapsed": false,
     "input": [
      "%%bash\n",
      "nw_display catarrhini_wrong"
     ],
     "language": "python",
     "metadata": {},
     "outputs": []
    },
    {
     "cell_type": "markdown",
     "metadata": {},
     "source": [
      "Do you see the problem?\n",
      "\n",
      "To reroot it, pass the label of the outgroup:"
     ]
    },
    {
     "cell_type": "code",
     "collapsed": false,
     "input": [
      "%%bash\n",
      "nw_reroot catarrhini_wrong Cebus | nw_display -"
     ],
     "language": "python",
     "metadata": {},
     "outputs": []
    },
    {
     "cell_type": "markdown",
     "metadata": {},
     "source": [
      "Now what dou you think of the following?"
     ]
    },
    {
     "cell_type": "code",
     "collapsed": false,
     "input": [
      "%%bash\n",
      "nw_display catarrhini_wrong_3og"
     ],
     "language": "python",
     "metadata": {},
     "outputs": []
    },
    {
     "cell_type": "markdown",
     "metadata": {},
     "source": [
      "Hint: _Aotus_ (owl monkey) and _Pithecia_ (saki) are also New-World species. \n",
      "\n",
      "`nw_reroot` can also *remove* the root (some programs want an unrooted tree, by which they mean a tree whose root has exactly three children)."
     ]
    },
    {
     "cell_type": "markdown",
     "metadata": {},
     "source": [
      "### Discarding Branch Lengths\n",
      "\n",
      "Sometimes you're not interested in branch lengths, or sometimes they just obscure the ancestry relationships, e.g.:"
     ]
    },
    {
     "cell_type": "code",
     "collapsed": true,
     "input": [
      "%%bash\n",
      "nw_display tetrapoda.nw "
     ],
     "language": "python",
     "metadata": {},
     "outputs": [
      {
       "output_type": "stream",
       "stream": "stdout",
       "text": [
        "           /----+ Procavia                                                      \n",
        "           |                                                                    \n",
        "           / 42+ Vulpes                                                         \n",
        "           \\-+ 84                                                               \n",
        "           / 16+ Orcinus                                                        \n",
        "           |                                                                    \n",
        "           \\---+ Bradypus                                                       \n",
        "           |                                                                    \n",
        "           |      /-+ Mesocricetus                                              \n",
        "      /----+/78---+ 88                                                          \n",
        "      |    |/ 32  \\----------+ Tamias                                           \n",
        "      |    ||                                                                   \n",
        "      |    |\\---+ Sorex                                                         \n",
        "      |    ||                                                                   \n",
        "      |    \\+ 26 /+ Homo                                                        \n",
        "  /---+ 71  |    |                                                              \n",
        "  |   |     | /--/ 99pio                                                        \n",
        "  |   |     | |  \\ 42                                                           \n",
        "  |   |     \\-+ 67+ Hylobates                                                   \n",
        "  |   |       |                                                                 \n",
        " /+ 30|       \\------+ Lepus                                                    \n",
        " ||   |                                                                         \n",
        " ||   \\+ Didelphis                                                              \n",
        "=+|100                                                                          \n",
        " |\\---------------------------------------------------------------+ Bombina     \n",
        " |                                                                              \n",
        " \\---+ Tetrao                                                                   \n",
        "                                                                                \n",
        " |-----------|-----------|----------|-----------|-----------|------             \n",
        " 0        0.05         0.1       0.15         0.2        0.25                   \n",
        " substitutions/site                                                             \n",
        "                                                                                \n"
       ]
      }
     ],
     "prompt_number": 19
    },
    {
     "cell_type": "code",
     "collapsed": false,
     "input": [
      "%%bash \n",
      "nw_topology tetrapoda.nw # now pipe to nw_display"
     ],
     "language": "python",
     "metadata": {},
     "outputs": [
      {
       "output_type": "stream",
       "stream": "stdout",
       "text": [
        "((((((Procavia,(Vulpes,Orcinus)84)42,Bradypus)16,(((Mesocricetus,Tamias)88,Sorex)32,((Homo,(Papio,Hylobates)42)99,Lepus)67)26)78,Didelphis)71,Bombina)30,Tetrao)100;\n"
       ]
      }
     ],
     "prompt_number": 22
    },
    {
     "cell_type": "markdown",
     "metadata": {},
     "source": [
      "### Distances\n",
      "\n",
      "`nw_distance` prints out patristic distances among the nodes in the tree. By default, it prints the distance from the root to each of the (labeled) leaves:"
     ]
    },
    {
     "cell_type": "code",
     "collapsed": false,
     "input": [
      "%%bash\n",
      "nw_distance -n \n",
      "vertebrates.nw"
     ],
     "language": "python",
     "metadata": {},
     "outputs": [
      {
       "output_type": "stream",
       "stream": "stdout",
       "text": [
        "Bos\t681\n",
        "Canis\t731\n",
        "Equus\t731\n",
        "Homo\t696\n",
        "Macaca\t696\n",
        "Mus\t691\n",
        "Rattus\t691\n",
        "Monodelphis\t536\n",
        "Ornithorhynchus\t436\n",
        "Gallus\t396\n",
        "Taeniopygia\t396\n",
        "Danio\t146\n",
        "Oryzias\t186\n",
        "Tetraodon\t186\n"
       ]
      }
     ],
     "prompt_number": 25
    },
    {
     "cell_type": "markdown",
     "metadata": {},
     "source": [
      "## Several Trees\n",
      "\n",
      "All the Newick utilities will perform their task on all the trees in the input file. Here is a file with four of them:"
     ]
    },
    {
     "cell_type": "code",
     "collapsed": false,
     "input": [
      "%%bash\n",
      "nw_display forest"
     ],
     "language": "python",
     "metadata": {},
     "outputs": [
      {
       "output_type": "stream",
       "stream": "stdout",
       "text": [
        " /-----------------------------------------------------------------+ Pandion    \n",
        " |                                                                              \n",
        " |                                           /---------------------+ Buteo      \n",
        " |                                           |                                  \n",
        " |                     /---------------------+---------------------+ Aquila     \n",
        " |                     |                     |                                  \n",
        " +---------------------+                     \\---------------------+ Haliaeetus \n",
        " |                     |                                                        \n",
        "=+                     |                     /---------------------+ Milvus     \n",
        " |                     \\---------------------+                                  \n",
        " |                                           \\---------------------+ Elanus     \n",
        " |                                                                              \n",
        " +-----------------------------------------------------------------+ Sagittarius\n",
        " |                                                                              \n",
        " |                                           /---------------------+ Micrastur  \n",
        " |                     /---------------------+                                  \n",
        " |                     |                     \\---------------------+ Falco      \n",
        " \\---------------------+                                                        \n",
        "                       |                     /---------------------+ Polyborus  \n",
        "                       \\---------------------+                                  \n",
        "                                             \\---------------------+ Milvago    \n",
        "                                                                                \n",
        "                      /------------------------------------------+ Diomedea     \n",
        " /--------------------+                                                         \n",
        " |                    \\------------------------------------------+ Daption      \n",
        " |                                                                              \n",
        " |                    /------------------------------------------+ Fregata      \n",
        " |                    |                                                         \n",
        "=+--------------------+------------------------------------------+ Phalacrocorax\n",
        " |                    |                                                         \n",
        " |                    \\------------------------------------------+ Sula         \n",
        " |                                                                              \n",
        " |                    /------------------------------------------+ Larus        \n",
        " |                    |                                                         \n",
        " \\--------------------+                     /--------------------+ Fratercula   \n",
        "                      \\---------------------+                                   \n",
        "                                            \\--------------------+ Uria         \n",
        "                                                                                \n",
        "                                /-------------------------------+ Ticodendraceae\n",
        "                 /--------------+                                               \n",
        " /---------------+              \\---------------+ Betulaceae                    \n",
        " |               |                                                              \n",
        " |               \\----------------------------------------------+ Casuarinaceae \n",
        " |                                                                              \n",
        "=+               /------------------------------+ Rhoipteleaceae                \n",
        " +---------------+                                                              \n",
        " |               \\----------------------------------------------+ Juglandaceae  \n",
        " |                                                                              \n",
        " \\------------------------------+ Myricaceae                                    \n",
        "                                                                                \n",
        " |---------------|---------------|--------------|---------------|               \n",
        " 0               1               2              3               4               \n",
        " substitutions/site                                                             \n",
        "                                                                                \n",
        "                                        /---------------+ Gorilla               \n",
        "                                        |                                       \n",
        "                          /-------------+ Homininae---------+ Pan               \n",
        "                          |             \\---------+ Hominini                    \n",
        "           /--------------+ Hominidae             \\---------+ Homo              \n",
        "           |              |                                                     \n",
        " /---------+              \\----------------------------+ Pongo                  \n",
        " |         |                                                                    \n",
        " |         \\-------------------+ Hylobates                                      \n",
        " |                                                                              \n",
        "=+                                                     /---------+ Macaca       \n",
        " |                                 /-------------------+                        \n",
        " |         /-----------------------+ Cercopithecinae   \\---------+ Papio        \n",
        " |         |                       |                                            \n",
        " |         |                       \\---------+ Cercopithecus                    \n",
        " \\---------+ Cercopithecidae                                                    \n",
        "           |    /---------+ Simias                                              \n",
        "           \\----+ Colobinae                                                     \n",
        "                \\------+ Colobus                                                \n",
        "                                                                                \n",
        " |-------------------|------------------|-------------------|-----              \n",
        " 0                  20                 40                  60                   \n",
        " substitutions/site                                                             \n",
        "                                                                                \n"
       ]
      }
     ],
     "prompt_number": 27
    },
    {
     "cell_type": "markdown",
     "metadata": {},
     "source": [
      "Here is a file with a couple hundred trees, one per line:"
     ]
    },
    {
     "cell_type": "code",
     "collapsed": false,
     "input": [
      "%%bash\n",
      "wc -l bacterial_orthologs\n",
      "nw_display bacterial_orthologs | head -30"
     ],
     "language": "python",
     "metadata": {},
     "outputs": [
      {
       "output_type": "stream",
       "stream": "stdout",
       "text": [
        "222 bacterial_orthologs\n",
        "                            /-----------------------------------+ Nitrosococcus \n",
        "                      /-----+                                                   \n",
        "      /---------------+     \\----------------+ Nitrosopumilus                   \n",
        "      |               |                                                         \n",
        " /----+               \\-------------------------+ Cand. Kuenenia                \n",
        " |    |                                                                         \n",
        " |    \\------+ Nitrosospira                                                     \n",
        "=+                                                                              \n",
        " +-+ Nitrosom. eutr                                                             \n",
        " |                                                                              \n",
        " \\+ Nitrosom. euro                                                              \n",
        "                                                                                \n",
        " |-------------|------------|-------------|-------------|--------               \n",
        " 0           0.5            1           1.5             2                       \n",
        " substitutions/site                                                             \n",
        "                                                                                \n",
        "          /--+ Nitrosom. eutr                                                   \n",
        "       /--+                                                                     \n",
        "       |  \\+ Nitrosom. euro                                                     \n",
        " /-----+                                                                        \n",
        " |     |  /---------+ Nitrosococcus                                             \n",
        " |     \\--+                                                                     \n",
        "=+        \\---+ Nitrosospira                                                    \n",
        " |                                                                              \n",
        " +---------------+ Cand. Kuenenia                                               \n",
        " |                                                                              \n",
        " \\--------------------------------------------------------------+ Nitrosopumilus\n",
        "                                                                                \n",
        " |-------------------|------------------|-------------------|----               \n",
        " 0                   1                  2                   3                   \n"
       ]
      }
     ],
     "prompt_number": 29
    },
    {
     "cell_type": "markdown",
     "metadata": {},
     "source": [
      "No reroot all these trees on _Nitrosopumilus_, just do"
     ]
    },
    {
     "cell_type": "code",
     "collapsed": false,
     "input": [
      "%%bash\n",
      "nw_reroot bacterial_orthologs Nitrosopumilus | nw_display - | head -30"
     ],
     "language": "python",
     "metadata": {},
     "outputs": [
      {
       "output_type": "stream",
       "stream": "stdout",
       "text": [
        " /-----------+ Nitrosopumilus                                                   \n",
        " |                                                                              \n",
        "=+           /--------------------------------------------------+ Nitrosococcus \n",
        " |           |                                                                  \n",
        " \\-----------+        /-----------------------------------+ Cand. Kuenenia      \n",
        "             |        |                                                         \n",
        "             \\--------+                      /--------+ Nitrosospira            \n",
        "                      |                      |                                  \n",
        "                      \\----------------------+      /--+ Nitrosom. eutr         \n",
        "                                             \\------+                           \n",
        "                                                    \\+ Nitrosom. euro           \n",
        "                                                                                \n",
        " |------------------|-------------------|------------------|-----               \n",
        " 0                0.5                   1                1.5                    \n",
        " substitutions/site                                                             \n",
        "                                                                                \n",
        " /---------------------------------------+ Nitrosopumilus                       \n",
        " |                                                                              \n",
        " |                                                  /--+ Nitrosom. eutr         \n",
        " |                                               /--+                           \n",
        "=+                                               |  \\-+ Nitrosom. euro          \n",
        " |                                       /-------+                              \n",
        " |                                       |       |  /-----------+ Nitrosococcus \n",
        " |                                       |       \\--+                           \n",
        " \\---------------------------------------+          \\----+ Nitrosospira         \n",
        "                                         |                                      \n",
        "                                         \\-------------------+ Cand. Kuenenia   \n",
        "                                                                                \n",
        " |-----------|------------|-----------|-----------|------------|-               \n",
        " 0         0.5            1         1.5           2          2.5                \n"
       ]
      }
     ],
     "prompt_number": 31
    },
    {
     "cell_type": "heading",
     "level": 3,
     "metadata": {},
     "source": [
      "Renaming Large Trees"
     ]
    },
    {
     "cell_type": "markdown",
     "metadata": {},
     "source": [
      "File `ncbi.tre` contains the NCBI's taxonomy. This is a large file (6.2 Mb), as the scope of the NCBI taxonomy is the whole tree of life. "
     ]
    },
    {
     "cell_type": "code",
     "collapsed": false,
     "input": [
      "ls -lh ncbi*"
     ],
     "language": "python",
     "metadata": {},
     "outputs": []
    },
    {
     "cell_type": "markdown",
     "metadata": {},
     "source": [
      "How many nodes does the tree contain?"
     ]
    },
    {
     "cell_type": "code",
     "collapsed": false,
     "input": [
      "%%bash\n",
      "nw_stats ncbi.tre"
     ],
     "language": "python",
     "metadata": {},
     "outputs": []
    },
    {
     "cell_type": "markdown",
     "metadata": {},
     "source": [
      "About 900,000 nodes, of which about 800,000 are leaves - that means the tree is highly multifurcating."
     ]
    },
    {
     "cell_type": "markdown",
     "metadata": {},
     "source": [
      "A tree of life enables us to ask phylogenetic questions about any clade of our choice, such as\n",
      "* what is the clade defined by speces X and Y?\n",
      "* what is the closest relative of clade X?\n",
      "* do the species in set S form a monophyletic group?\n",
      "\n",
      "Unfortunately, there is a glitch: the original NCBI tree has numerical identifiers, not names:"
     ]
    },
    {
     "cell_type": "code",
     "collapsed": true,
     "input": [
      "%%bash\n",
      "nw_display ncbi.tre | head"
     ],
     "language": "python",
     "metadata": {},
     "outputs": []
    },
    {
     "cell_type": "markdown",
     "metadata": {},
     "source": [
      "This will not be very useful. We'd like to replace those IDs by the corresponding scientific names. This is the purpose of `nw_rename`. It just needs (besides the tree, that is) a _renaming map_, which is just a text file that has the ID -> name mapping for each ID. Thankfully, NCBI also supplies a file that is very close to this:"
     ]
    },
    {
     "cell_type": "code",
     "collapsed": false,
     "input": [
      "%%bash\n",
      "head ncbi.map"
     ],
     "language": "python",
     "metadata": {},
     "outputs": []
    },
    {
     "cell_type": "markdown",
     "metadata": {},
     "source": [
      "With a bit of editing (Awk and Vim) to get rid of problematic characters that can confuse the tree parser, converted this file into a *renaming map* for `nw_rename`:"
     ]
    },
    {
     "cell_type": "code",
     "collapsed": true,
     "input": [
      "%%bash\n",
      "head ncbi_nodeId2name.map"
     ],
     "language": "python",
     "metadata": {},
     "outputs": []
    },
    {
     "cell_type": "markdown",
     "metadata": {},
     "source": [
      "Now I can use this to replace the IDs with names:"
     ]
    },
    {
     "cell_type": "code",
     "collapsed": false,
     "input": [
      "%%bash\n",
      "nw_rename ncbi.tre ncbi_nodeId2name.map > ncbi_renamed.nw"
     ],
     "language": "python",
     "metadata": {},
     "outputs": []
    },
    {
     "cell_type": "code",
     "collapsed": false,
     "input": [
      "%%bash\n",
      "nw_display -w 120 ncbi_renamed.nw | head  # -w 120 b/c default is so compressed as to cause a crash."
     ],
     "language": "python",
     "metadata": {},
     "outputs": []
    },
    {
     "cell_type": "markdown",
     "metadata": {},
     "source": [
      "### Trimming\n",
      "\n",
      "Our tree of life is very large, but we can see its general structure by looking a it \"from the root\". What, for instance, are the main phyla in the tree? "
     ]
    },
    {
     "cell_type": "code",
     "collapsed": false,
     "input": [
      "%%bash\n",
      "nw_trim -a ncbi_renamed.nw 1 | nw_display -"
     ],
     "language": "python",
     "metadata": {},
     "outputs": []
    },
    {
     "cell_type": "markdown",
     "metadata": {},
     "source": [
      "### Extractig  Clades in a Large Tree\n",
      "\n",
      "What are the main clades of cellular organisms? We can use `nw_clade` to extract clades from a tree, based on node labels. At the simplest, it takes a single label and outputs the subtree rooted at that label. Since the tree is large, we have to _trim_ it as well:"
     ]
    },
    {
     "cell_type": "code",
     "collapsed": false,
     "input": [
      "%%bash\n",
      "nw_clade ncbi_renamed.nw cellular_organisms | nw_trim -a - 1 | nw_display - # underscores display as spaces"
     ],
     "language": "python",
     "metadata": {},
     "outputs": []
    },
    {
     "cell_type": "markdown",
     "metadata": {},
     "source": [
      "Well, Carl Woese would be happy. If we choose a node nearer to the leaves (say a genus), we will not have to trim. "
     ]
    },
    {
     "cell_type": "code",
     "collapsed": false,
     "input": [
      "%%bash\n",
      "nw_clade ncbi_renamed.nw Cygnus | nw_display - # trim -a 1 to discard subspecies"
     ],
     "language": "python",
     "metadata": {},
     "outputs": []
    },
    {
     "cell_type": "markdown",
     "metadata": {},
     "source": [
      "### Last Common Ancestor"
     ]
    },
    {
     "cell_type": "markdown",
     "metadata": {},
     "source": [
      "Given two or mode labels, `nw_clade` finds their _last common ancestor_ (LCA) according to the tree, and extracts the subtree rooted at that node.\n",
      "We can now ask questions about the phylogeny of any group of living organisms. For example, what is the clade defined by humans and macaques?"
     ]
    },
    {
     "cell_type": "code",
     "collapsed": false,
     "input": [
      "%%bash \n",
      "nw_clade ncbi_renamed.nw Homo Macaca"
     ],
     "language": "python",
     "metadata": {},
     "outputs": []
    },
    {
     "cell_type": "markdown",
     "metadata": {},
     "source": [
      "Ok, it's a bit large, but by looking at the root node's label..."
     ]
    },
    {
     "cell_type": "code",
     "collapsed": false,
     "input": [
      "%%bash\n",
      "nw_clade ncbi_renamed.nw Homo Macaca | nw_labels -r -"
     ],
     "language": "python",
     "metadata": {},
     "outputs": []
    },
    {
     "cell_type": "markdown",
     "metadata": {},
     "source": [
      "why, it's our good friends the Old World primates, except that _this_ tree is complete (as far as the NCBI knows). This also works with a single label. Any dinosaurs in the NCBI taxonomy?"
     ]
    },
    {
     "cell_type": "code",
     "collapsed": false,
     "input": [
      "%%bash\n",
      "nw_clade ncbi_renamed.nw Dinosauria | nw_trim -a - 4 | nw_display -"
     ],
     "language": "python",
     "metadata": {},
     "outputs": []
    },
    {
     "cell_type": "markdown",
     "metadata": {},
     "source": [
      "No surprise in finding the birds here (_Aves_), but I didn't expect T-rex in a sequence database. Oh well. "
     ]
    },
    {
     "cell_type": "markdown",
     "metadata": {},
     "source": [
      "### Problem: suggesting an outgroup\n",
      "\n",
      "Suppose I have sequences of gene _abcD_ from several species of _Bacillus_, _Clostridium_, _Geobacillus_, and _Desulfotomaculum_. What species would make a suitable outgroup? "
     ]
    },
    {
     "cell_type": "code",
     "collapsed": false,
     "input": [],
     "language": "python",
     "metadata": {},
     "outputs": []
    }
   ],
   "metadata": {}
  }
 ]
}
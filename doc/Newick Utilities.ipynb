{
 "metadata": {
  "name": "Newick Utilities",
  "signature": "sha256:e5ac2fd8b4f052cd9971b6c0fd874360474a08cbdd57eb0d8fa33f32020436b9"
 },
 "nbformat": 3,
 "nbformat_minor": 0,
 "worksheets": [
  {
   "cells": [
    {
     "cell_type": "markdown",
     "metadata": {},
     "source": [
      "# An Interactive tour of the Newick Utilities"
     ]
    },
    {
     "cell_type": "markdown",
     "metadata": {},
     "source": [
      "This document is an [IPython notebook](http://ipython.org/ipython-doc/stable/notebook/index.html). It mixes explanatory text and _code cells_ where you can try out commands interactively.\n",
      "\n",
      "The Newick Utilities are available from:\n",
      "\n",
      "* [http://github.com/tjunier/newick_utils](http://github.com/tjunier/newick_utilities) - latest\n",
      "* [http://cegg.unige.ch/newick_utils](http://cegg.unige.ch/newick_utils) - Older, binaries"
     ]
    },
    {
     "cell_type": "markdown",
     "metadata": {},
     "source": [
      "## Contents\n",
      "* Basics\n",
      "* Large Trees\n",
      "* Large numbers of Trees"
     ]
    },
    {
     "cell_type": "markdown",
     "metadata": {},
     "source": [
      "## Basics"
     ]
    },
    {
     "cell_type": "markdown",
     "metadata": {},
     "source": [
      "The Newick Utilities are a set of Unix programs for rapidly **processing** phylogenetic trees.\n",
      "\n",
      "They perform tasks such as:\n",
      "\n",
      "* rooting, re-rooting and de-rooting\n",
      "* extracting  clades and finding common ancestors\n",
      "* extracting topology\n",
      "* ordering\n",
      "* computing bootstrap support\n",
      "* extracting branch lengths\n",
      "* simplifying\n",
      "* general edition\n",
      "* ...\n",
      "* displaying\n",
      "\n",
      "\n",
      "They were designed to:\n",
      "\n",
      "* handle **any number of trees of any size**\n",
      "* **facilitate automation**\n",
      "* be reasonably fast\n",
      "\n",
      "$\\rightarrow$  they have a **command-line interface** (CLI), that is, they work in the shell, just like `ls`, `grep`, and countless other programs (type `Shift-Enter` or `Ctrl-Enter` to run a cell):"
     ]
    },
    {
     "cell_type": "code",
     "collapsed": true,
     "input": [
      "ls -l"
     ],
     "language": "python",
     "metadata": {},
     "outputs": [
      {
       "output_type": "stream",
       "stream": "stdout",
       "text": [
        "total 116160\r\n",
        "-rw------- 1 adminuser adminuser      211 May  7 16:17 catarrhini\r\n",
        "-rw------- 1 adminuser adminuser      501 May 15 07:21 forest.nw\r\n",
        "-rw------- 1 adminuser adminuser   222967 May 15 10:09 hiv_nonredundant.nw\r\n",
        "-rw------- 1 adminuser adminuser   222967 May 15 10:10 hiv_redundant.nw\r\n",
        "-rw-r--r-- 1 adminuser adminuser 35789667 May 10 19:44 ncbi.map\r\n",
        "-rw-r--r-- 1 adminuser adminuser 23294728 May 10 19:44 ncbi_names.nw\r\n",
        "-rw-r--r-- 1 adminuser adminuser 29577774 May 10 19:44 ncbi_nodeId2name.map\r\n",
        "-rw-r--r-- 1 adminuser adminuser 23294716 May 21 17:17 ncbi_renamed.nw\r\n",
        "-rw-r--r-- 1 adminuser adminuser  6485508 May 10 19:44 ncbi.tre\r\n",
        "-rw-r--r-- 1 adminuser adminuser    31435 May 22 10:54 Newick Utilities.ipynb\r\n"
       ]
      }
     ],
     "prompt_number": 9
    },
    {
     "cell_type": "markdown",
     "metadata": {},
     "source": [
      "\n",
      "\n",
      "As a first example, let's look at a tree. Consider this phylogeny of (Old-world) primates:"
     ]
    },
    {
     "cell_type": "code",
     "collapsed": false,
     "input": [
      "cat catarrhini"
     ],
     "language": "python",
     "metadata": {},
     "outputs": [
      {
       "output_type": "stream",
       "stream": "stdout",
       "text": [
        "((((Gorilla:16,(Pan:10,Homo:10)Hominini:10)Homininae:15,Pongo:30)Hominidae:15,Hylobates:20):10,(((Macaca:10,Papio:10):20,Cercopithecus:10)Cercopithecinae:25,(Simias:10,Colobus:7)Colobinae:5)Cercopithecidae:10);\r\n"
       ]
      }
     ],
     "prompt_number": 8
    },
    {
     "cell_type": "markdown",
     "metadata": {},
     "source": [
      "For humans, this is unreadable... so let's display it as a graph:\n",
      "(**note**: the `%%bash` part is ipython syntax, not Bash! In a shell you don't need this.)"
     ]
    },
    {
     "cell_type": "code",
     "collapsed": false,
     "input": [
      "%%bash  \n",
      "nw_display catarrhini "
     ],
     "language": "python",
     "metadata": {},
     "outputs": [
      {
       "output_type": "stream",
       "stream": "stdout",
       "text": [
        "                                        /---------------+ Gorilla               \n",
        "                                        |                                       \n",
        "                          /-------------+ Homininae---------+ Pan               \n",
        "                          |             \\---------+ Hominini                    \n",
        "           /--------------+ Hominidae             \\---------+ Homo              \n",
        "           |              |                                                     \n",
        " /---------+              \\----------------------------+ Pongo                  \n",
        " |         |                                                                    \n",
        " |         \\-------------------+ Hylobates                                      \n",
        " |                                                                              \n",
        "=+                                                     /---------+ Macaca       \n",
        " |                                 /-------------------+                        \n",
        " |         /-----------------------+ Cercopithecinae   \\---------+ Papio        \n",
        " |         |                       |                                            \n",
        " |         |                       \\---------+ Cercopithecus                    \n",
        " \\---------+ Cercopithecidae                                                    \n",
        "           |    /---------+ Simias                                              \n",
        "           \\----+ Colobinae                                                     \n",
        "                \\------+ Colobus                                                \n",
        "                                                                                \n",
        " |-------------------|------------------|-------------------|-----              \n",
        " 0                  20                 40                  60                   \n",
        " substitutions/site                                                             \n",
        "                                                                                \n"
       ]
      }
     ],
     "prompt_number": 11
    },
    {
     "cell_type": "markdown",
     "metadata": {},
     "source": [
      "`nw_display` can do much more than this, and we'll go back to it later. For now, let's see some general features of the Newick Utilities."
     ]
    },
    {
     "cell_type": "heading",
     "level": 3,
     "metadata": {},
     "source": [
      "Help"
     ]
    },
    {
     "cell_type": "markdown",
     "metadata": {},
     "source": [
      "All the utilities accept option `-h`, which prints a help page and exits:"
     ]
    },
    {
     "cell_type": "code",
     "collapsed": false,
     "input": [
      "%%bash\n",
      "nw_display -h | head -15"
     ],
     "language": "python",
     "metadata": {},
     "outputs": [
      {
       "output_type": "stream",
       "stream": "stdout",
       "text": [
        "Displays a tree as a graph, as text or SVG.\n",
        "\n",
        "Synopsis\n",
        "--------\n",
        "\n",
        "nw_display [options] <tree filename|->\n",
        "\n",
        "Input\n",
        "-----\n",
        "\n",
        "Argument is the name of the file containing one or more trees,\n",
        "or '-' (in which case the tree is read on stdin).\n",
        "\n",
        "Output\n",
        "------\n"
       ]
      }
     ],
     "prompt_number": 12
    },
    {
     "cell_type": "heading",
     "level": 3,
     "metadata": {},
     "source": [
      "Syntax"
     ]
    },
    {
     "cell_type": "markdown",
     "metadata": {},
     "source": [
      "`$ <nw_util> [options] <tree-file> [other arguments]`\n",
      "\n",
      "That is:\n",
      "\n",
      "1. possibly some options\n",
      "2. **tree filename** (or `-` for standard input)\n",
      "3. possiby other arguments\n",
      "\n",
      "The tree file must contain Newick-formatted trees."
     ]
    },
    {
     "cell_type": "code",
     "collapsed": false,
     "input": [
      "%%bash\n",
      "nw_display catarrhini # simple"
     ],
     "language": "python",
     "metadata": {},
     "outputs": [
      {
       "output_type": "stream",
       "stream": "stdout",
       "text": [
        "                                        /---------------+ Gorilla               \n",
        "                                        |                                       \n",
        "                          /-------------+ Homininae---------+ Pan               \n",
        "                          |             \\---------+ Hominini                    \n",
        "           /--------------+ Hominidae             \\---------+ Homo              \n",
        "           |              |                                                     \n",
        " /---------+              \\----------------------------+ Pongo                  \n",
        " |         |                                                                    \n",
        " |         \\-------------------+ Hylobates                                      \n",
        " |                                                                              \n",
        "=+                                                     /---------+ Macaca       \n",
        " |                                 /-------------------+                        \n",
        " |         /-----------------------+ Cercopithecinae   \\---------+ Papio        \n",
        " |         |                       |                                            \n",
        " |         |                       \\---------+ Cercopithecus                    \n",
        " \\---------+ Cercopithecidae                                                    \n",
        "           |    /---------+ Simias                                              \n",
        "           \\----+ Colobinae                                                     \n",
        "                \\------+ Colobus                                                \n",
        "                                                                                \n",
        " |-------------------|------------------|-------------------|-----              \n",
        " 0                  20                 40                  60                   \n",
        " substitutions/site                                                             \n",
        "                                                                                \n"
       ]
      }
     ],
     "prompt_number": 13
    },
    {
     "cell_type": "code",
     "collapsed": false,
     "input": [
      "%%bash\n",
      "cat catarrhini | nw_display - # or nw_display - < catarrhini"
     ],
     "language": "python",
     "metadata": {},
     "outputs": [
      {
       "output_type": "stream",
       "stream": "stdout",
       "text": [
        "                                        /---------------+ Gorilla               \n",
        "                                        |                                       \n",
        "                          /-------------+ Homininae---------+ Pan               \n",
        "                          |             \\---------+ Hominini                    \n",
        "           /--------------+ Hominidae             \\---------+ Homo              \n",
        "           |              |                                                     \n",
        " /---------+              \\----------------------------+ Pongo                  \n",
        " |         |                                                                    \n",
        " |         \\-------------------+ Hylobates                                      \n",
        " |                                                                              \n",
        "=+                                                     /---------+ Macaca       \n",
        " |                                 /-------------------+                        \n",
        " |         /-----------------------+ Cercopithecinae   \\---------+ Papio        \n",
        " |         |                       |                                            \n",
        " |         |                       \\---------+ Cercopithecus                    \n",
        " \\---------+ Cercopithecidae                                                    \n",
        "           |    /---------+ Simias                                              \n",
        "           \\----+ Colobinae                                                     \n",
        "                \\------+ Colobus                                                \n",
        "                                                                                \n",
        " |-------------------|------------------|-------------------|-----              \n",
        " 0                  20                 40                  60                   \n",
        " substitutions/site                                                             \n",
        "                                                                                \n"
       ]
      }
     ],
     "prompt_number": 14
    },
    {
     "cell_type": "markdown",
     "metadata": {},
     "source": [
      "In typical Unix style, *options* alter the program's behaviour:"
     ]
    },
    {
     "cell_type": "code",
     "collapsed": false,
     "input": [
      "%%bash\n",
      "nw_display -w 40 catarrhini # -w changes the width"
     ],
     "language": "python",
     "metadata": {},
     "outputs": [
      {
       "output_type": "stream",
       "stream": "stdout",
       "text": [
        "                /-----+ Gorilla         \n",
        "                |                       \n",
        "          /-----+ Homininaen            \n",
        "          |     \\--+ Hominini           \n",
        "     /----+ Hominidae--+ Homo           \n",
        "     |    |                             \n",
        " /---+    \\----------+ Pongo            \n",
        " |   |                                  \n",
        " |   \\------+ Hylobates                 \n",
        " |                                      \n",
        "=+                   /---+ Macaca       \n",
        " |            /------+                  \n",
        " |   /--------+ Cercopithecinaeo        \n",
        " |   |        |                         \n",
        " |   |        \\---+ Cercopithecus       \n",
        " \\---+ Cercopithecidae                  \n",
        "     | /--+ Simias                      \n",
        "     \\-+ Colobinae                      \n",
        "       \\-+ Colobus                      \n",
        "                                        \n",
        " |------|-------|------|--              \n",
        " 0     20      40     60                \n",
        " substitutions/site                     \n",
        "                                        \n"
       ]
      }
     ],
     "prompt_number": 15
    },
    {
     "cell_type": "heading",
     "level": 3,
     "metadata": {},
     "source": [
      "Filter Behaviour"
     ]
    },
    {
     "cell_type": "markdown",
     "metadata": {},
     "source": [
      "The utilities:\n",
      "\n",
      "* write to standard output\n",
      "* (can) read from standard input (Newick-formatted trees)\n",
      "* read and write text (including SVG and Newick)\n",
      "\n",
      "This means that they are **Unix shell filters**, and can be strung into shell pipelines, and mixed with other filters. For example, suppose we want to make sure that there are no duplicates among a tree's labels. We can use the usual shell tools for that."
     ]
    },
    {
     "cell_type": "code",
     "collapsed": false,
     "input": [
      "%%bash\n",
      "nw_labels hiv_nonredundant.nw | sort | uniq -d # try hiv_redundant.nw as well..."
     ],
     "language": "python",
     "metadata": {},
     "outputs": [],
     "prompt_number": 17
    },
    {
     "cell_type": "markdown",
     "metadata": {},
     "source": [
      "This is one way in which the Newick utilities facilitate automation. Another is that they can process any number of trees of any size:"
     ]
    },
    {
     "cell_type": "code",
     "collapsed": false,
     "input": [
      "%%bash\n",
      "wc -l forest.nw\n",
      "nw_display forest.nw"
     ],
     "language": "python",
     "metadata": {},
     "outputs": [
      {
       "output_type": "stream",
       "stream": "stdout",
       "text": [
        "4 forest.nw\n",
        " /-----------------------------------------------------------------+ Pandion    \n",
        " |                                                                              \n",
        " |                                           /---------------------+ Buteo      \n",
        " |                                           |                                  \n",
        " |                     /---------------------+---------------------+ Aquila     \n",
        " |                     |                     |                                  \n",
        " +---------------------+                     \\---------------------+ Haliaeetus \n",
        " |                     |                                                        \n",
        "=+                     |                     /---------------------+ Milvus     \n",
        " |                     \\---------------------+                                  \n",
        " |                                           \\---------------------+ Elanus     \n",
        " |                                                                              \n",
        " +-----------------------------------------------------------------+ Sagittarius\n",
        " |                                                                              \n",
        " |                                           /---------------------+ Micrastur  \n",
        " |                     /---------------------+                                  \n",
        " |                     |                     \\---------------------+ Falco      \n",
        " \\---------------------+                                                        \n",
        "                       |                     /---------------------+ Polyborus  \n",
        "                       \\---------------------+                                  \n",
        "                                             \\---------------------+ Milvago    \n",
        "                                                                                \n",
        "                      /------------------------------------------+ Diomedea     \n",
        " /--------------------+                                                         \n",
        " |                    \\------------------------------------------+ Daption      \n",
        " |                                                                              \n",
        " |                    /------------------------------------------+ Fregata      \n",
        " |                    |                                                         \n",
        "=+--------------------+------------------------------------------+ Phalacrocorax\n",
        " |                    |                                                         \n",
        " |                    \\------------------------------------------+ Sula         \n",
        " |                                                                              \n",
        " |                    /------------------------------------------+ Larus        \n",
        " |                    |                                                         \n",
        " \\--------------------+                     /--------------------+ Fratercula   \n",
        "                      \\---------------------+                                   \n",
        "                                            \\--------------------+ Uria         \n",
        "                                                                                \n",
        "                                /-------------------------------+ Ticodendraceae\n",
        "                 /--------------+                                               \n",
        " /---------------+              \\---------------+ Betulaceae                    \n",
        " |               |                                                              \n",
        " |               \\----------------------------------------------+ Casuarinaceae \n",
        " |                                                                              \n",
        "=+               /------------------------------+ Rhoipteleaceae                \n",
        " +---------------+                                                              \n",
        " |               \\----------------------------------------------+ Juglandaceae  \n",
        " |                                                                              \n",
        " \\------------------------------+ Myricaceae                                    \n",
        "                                                                                \n",
        " |---------------|---------------|--------------|---------------|               \n",
        " 0               1               2              3               4               \n",
        " substitutions/site                                                             \n",
        "                                                                                \n",
        "                                        /---------------+ Gorilla               \n",
        "                                        |                                       \n",
        "                          /-------------+ Homininae---------+ Pan               \n",
        "                          |             \\---------+ Hominini                    \n",
        "           /--------------+ Hominidae             \\---------+ Homo              \n",
        "           |              |                                                     \n",
        " /---------+              \\----------------------------+ Pongo                  \n",
        " |         |                                                                    \n",
        " |         \\-------------------+ Hylobates                                      \n",
        " |                                                                              \n",
        "=+                                                     /---------+ Macaca       \n",
        " |                                 /-------------------+                        \n",
        " |         /-----------------------+ Cercopithecinae   \\---------+ Papio        \n",
        " |         |                       |                                            \n",
        " |         |                       \\---------+ Cercopithecus                    \n",
        " \\---------+ Cercopithecidae                                                    \n",
        "           |    /---------+ Simias                                              \n",
        "           \\----+ Colobinae                                                     \n",
        "                \\------+ Colobus                                                \n",
        "                                                                                \n",
        " |-------------------|------------------|-------------------|-----              \n",
        " 0                  20                 40                  60                   \n",
        " substitutions/site                                                             \n",
        "                                                                                \n"
       ]
      }
     ],
     "prompt_number": 18
    },
    {
     "cell_type": "markdown",
     "metadata": {},
     "source": [
      "We note that some trees are cladograms, some are phylograms, one has internal labels, etc."
     ]
    },
    {
     "cell_type": "heading",
     "level": 2,
     "metadata": {},
     "source": [
      "Part 0: Installing"
     ]
    },
    {
     "cell_type": "markdown",
     "metadata": {},
     "source": [
      "It's the usual GNU Autotools commands (can also use CMake for those who prefer it):\n",
      "\n",
      "```\n",
      "tar xzf newick_utils-x.y.tar.gz\n",
      "cd newick_utils\n",
      "autoreconf -fi # only needed when cloning from GitHub\n",
      "./configure\n",
      "make\n",
      "make check\n",
      "sudo make install\n",
      "```\n"
     ]
    },
    {
     "cell_type": "heading",
     "level": 2,
     "metadata": {},
     "source": [
      "Part 1: Large Trees"
     ]
    },
    {
     "cell_type": "heading",
     "level": 3,
     "metadata": {},
     "source": [
      "Example 1: Renaming Large Trees"
     ]
    },
    {
     "cell_type": "markdown",
     "metadata": {},
     "source": [
      "File `ncbi.tre` contains the NCBI's taxonomy. This is a large file (6.2 Mb), as the scope of the NCBI taxonomy is the whole tree of life. "
     ]
    },
    {
     "cell_type": "code",
     "collapsed": false,
     "input": [
      "ls -lh ncbi*"
     ],
     "language": "python",
     "metadata": {},
     "outputs": [
      {
       "output_type": "stream",
       "stream": "stdout",
       "text": [
        "-rw-r--r-- 1 tjunier users  35M May 11 01:44 ncbi.map\r\n",
        "-rw-r--r-- 1 tjunier users  23M May 11 01:44 ncbi_names.nw\r\n",
        "-rw-r--r-- 1 tjunier users  29M May 11 01:44 ncbi_nodeId2name.map\r\n",
        "-rw-r--r-- 1 tjunier users  23M May 15 13:15 ncbi_renamed.nw\r\n",
        "-rw-r--r-- 1 tjunier users 6.2M May 11 01:44 ncbi.tre\r\n"
       ]
      }
     ],
     "prompt_number": 11
    },
    {
     "cell_type": "markdown",
     "metadata": {},
     "source": [
      "How many nodes does the tree contain?"
     ]
    },
    {
     "cell_type": "code",
     "collapsed": false,
     "input": [
      "%%bash\n",
      "nw_stats ncbi.tre"
     ],
     "language": "python",
     "metadata": {},
     "outputs": [
      {
       "output_type": "stream",
       "stream": "stdout",
       "text": [
        "Type:\tCladogram\n",
        "#nodes:\t904435\n",
        "#leaves:\t803205\n",
        "#dichotomies:\t17874\n",
        "#leaf labels:\t803205\n",
        "#inner labels:\t101229\n"
       ]
      },
      {
       "output_type": "stream",
       "stream": "stderr",
       "text": [
        "\n",
        "real\t0m1.628s\n",
        "user\t0m0.643s\n",
        "sys\t0m0.080s\n"
       ]
      }
     ],
     "prompt_number": 12
    },
    {
     "cell_type": "markdown",
     "metadata": {},
     "source": [
      "About 900,000 nodes, of which about 800,000 are leaves - that means the tree is highly multifurcating."
     ]
    },
    {
     "cell_type": "markdown",
     "metadata": {},
     "source": [
      "A tree of life enables us to ask phylogenetic questions about any clade of our choice, such as\n",
      "* what is the clade defined by speces X and Y?\n",
      "* what is the closest relative of clade X?\n",
      "* do the species in set S form a monophyletic group?\n",
      "\n",
      "Unfortunately, there is a glitch: the original NCBI tree has numerical identifiers, not names:"
     ]
    },
    {
     "cell_type": "code",
     "collapsed": true,
     "input": [
      "%%bash\n",
      "nw_display ncbi.tre | head"
     ],
     "language": "python",
     "metadata": {},
     "outputs": []
    },
    {
     "cell_type": "markdown",
     "metadata": {},
     "source": [
      "This will not be very useful. We'd like to replace those IDs by the corresponding scientific names. This is the purpose of `nw_rename`. It just needs (besides the tree, that is) a _renaming map_, which is just a text file that has the ID -> name mapping for each ID. Thankfully, NCBI also supplies a file that is very close to this:"
     ]
    },
    {
     "cell_type": "code",
     "collapsed": false,
     "input": [
      "%%bash\n",
      "head ncbi.map"
     ],
     "language": "python",
     "metadata": {},
     "outputs": []
    },
    {
     "cell_type": "markdown",
     "metadata": {},
     "source": [
      "With a bit of editing (Awk and Vim) to get rid of problematic characters that can confuse the tree parser, converted this file into a *renaming map* for `nw_rename`:"
     ]
    },
    {
     "cell_type": "code",
     "collapsed": true,
     "input": [
      "%%bash\n",
      "head ncbi_nodeId2name.map"
     ],
     "language": "python",
     "metadata": {},
     "outputs": []
    },
    {
     "cell_type": "markdown",
     "metadata": {},
     "source": [
      "Now I can use this to replace the IDs with names:"
     ]
    },
    {
     "cell_type": "code",
     "collapsed": false,
     "input": [
      "%%bash\n",
      "nw_rename ncbi.tre ncbi_nodeId2name.map > ncbi_renamed.nw"
     ],
     "language": "python",
     "metadata": {},
     "outputs": []
    },
    {
     "cell_type": "code",
     "collapsed": false,
     "input": [
      "%%bash\n",
      "nw_display -w 120 ncbi_renamed.nw | head  # -w 120 b/c default is so compressed as to cause a crash."
     ],
     "language": "python",
     "metadata": {},
     "outputs": []
    },
    {
     "cell_type": "markdown",
     "metadata": {},
     "source": [
      "## Example 2: Trimming\n",
      "\n",
      "Our tree of life is very large, but we can see its general structure by looking a it \"from the root\". What, for instance, are the main phyla in the tree? "
     ]
    },
    {
     "cell_type": "code",
     "collapsed": false,
     "input": [
      "%%bash\n",
      "nw_trim -a ncbi_renamed.nw 1 | nw_display -"
     ],
     "language": "python",
     "metadata": {},
     "outputs": [
      {
       "output_type": "stream",
       "stream": "stdout",
       "text": [
        " /------------------------------------------------------+ cellular organisms    \n",
        " |                                                                              \n",
        " +------------------------------------------------------+ Viruses               \n",
        " |                                                                              \n",
        "=+-root-------------------------------------------------+ Viroids               \n",
        " |                                                                              \n",
        " +------------------------------------------------------+ unclassified sequences\n",
        " |                                                                              \n",
        " \\------------------------------------------------------+ other sequences       \n",
        "                                                                                \n"
       ]
      }
     ],
     "prompt_number": 1
    },
    {
     "cell_type": "markdown",
     "metadata": {},
     "source": [
      "## Example 3: Extractig  Clades in a Large Tree\n",
      "\n",
      "What are the main clades of cellular organisms? We can use `nw_clade` to extract clades from a tree, based on node labels. At the simplest, it takes a single label and outputs the subtree rooted at that label. Since the tree is large, we have to _trim_ it as well:"
     ]
    },
    {
     "cell_type": "code",
     "collapsed": false,
     "input": [
      "%%bash\n",
      "nw_clade ncbi_renamed.nw cellular_organisms | nw_trim -a - 1 | nw_display - # underscores display as spaces"
     ],
     "language": "python",
     "metadata": {},
     "outputs": [
      {
       "output_type": "stream",
       "stream": "stdout",
       "text": [
        " /-------------------------------------------------------------------+ Bacteria \n",
        " |                                                                              \n",
        "=+-cellular organisms------------------------------------------------+ Archaea  \n",
        " |                                                                              \n",
        " \\-------------------------------------------------------------------+ Eukaryota\n",
        "                                                                                \n"
       ]
      }
     ],
     "prompt_number": 2
    },
    {
     "cell_type": "markdown",
     "metadata": {},
     "source": [
      "Well, Carl Woese would be happy. If we choose a node nearer to the leaves (say a genus), we will not have to trim. "
     ]
    },
    {
     "cell_type": "code",
     "collapsed": false,
     "input": [
      "%%bash\n",
      "nw_clade ncbi_renamed.nw Cygnus | nw_display - # trim -a 1 to discard subspecies"
     ],
     "language": "python",
     "metadata": {},
     "outputs": [
      {
       "output_type": "stream",
       "stream": "stdout",
       "text": [
        " /-------------------------------------------------+ Cygnus atratus             \n",
        " |                                                                              \n",
        " +-------------------------------------------------+ Cygnus buccinator          \n",
        " |                                                                              \n",
        " +------------------------/-Cygnus columbianus-----+ Cygnus columbianus bewickii\n",
        "=+ Cygnus                                                                       \n",
        " +-------------------------------------------------+ Cygnus cygnus              \n",
        " |                                                                              \n",
        " +-------------------------------------------------+ Cygnus melancoryphus       \n",
        " |                                                                              \n",
        " \\-------------------------------------------------+ Cygnus olor                \n",
        "                                                                                \n"
       ]
      }
     ],
     "prompt_number": 3
    },
    {
     "cell_type": "markdown",
     "metadata": {},
     "source": [
      "### Last Common Ancestor"
     ]
    },
    {
     "cell_type": "markdown",
     "metadata": {},
     "source": [
      "Given two or mode labels, `nw_clade` finds their _last common ancestor_ (LCA) according to the tree, and extracts the subtree rooted at that node.\n",
      "We can now ask questions about the phylogeny of any group of living organisms. For example, what is the clade defined by humans and macaques?"
     ]
    },
    {
     "cell_type": "code",
     "collapsed": false,
     "input": [
      "%%bash \n",
      "nw_clade ncbi_renamed.nw Homo Macaca"
     ],
     "language": "python",
     "metadata": {},
     "outputs": [
      {
       "output_type": "stream",
       "stream": "stdout",
       "text": [
        "(((Cercopithecidae_gen._sp.,((Allenopithecus_nigroviridis)Allenopithecus,(Cercocebus_agilis,(Cercocebus_atys_lunulatus)Cercocebus_atys,Cercocebus_chrysogaster,Cercocebus_galeritus,(Cercocebus_torquatus_torquatus)Cercocebus_torquatus)Cercocebus,((Cercopithecus_albogularis_kolbi)Cercopithecus_albogularis,(Cercopithecus_ascanius_ascanius,Cercopithecus_ascanius_katangae,Cercopithecus_ascanius_schmidti,Cercopithecus_ascanius_whitesidei)Cercopithecus_ascanius,(Cercopithecus_campbelli_lowei)Cercopithecus_campbelli,(Cercopithecus_cephus_cephodes,Cercopithecus_cephus_cephus,Cercopithecus_cephus_ngottoensis)Cercopithecus_cephus,Cercopithecus_diana,(Cercopithecus_erythrogaster_erythrogaster)Cercopithecus_erythrogaster,Cercopithecus_erythrotis,(Cercopithecus_hamlyni_hamlyni)Cercopithecus_hamlyni,Cercopithecus_lhoesti,Cercopithecus_mitis,(Cercopithecus_mona_campbelli,Cercopithecus_mona_mona)Cercopithecus_mona,Cercopithecus_neglectus,Cercopithecus_nictitans,(Cercopithecus_petaurista_buettikoferi,Cercopithecus_petaurista_petaurista)Cercopithecus_petaurista,(Cercopithecus_pogonias_grayi)Cercopithecus_pogonias,Cercopithecus_preussi,Cercopithecus_roloway,Cercopithecus_solatus,Cercopithecus_sp._WMS-2012,(Cercopithecus_wolfi_wolfi)Cercopithecus_wolfi)Cercopithecus,((Chlorocebus_aethiops_aethiops,Chlorocebus_aethiops_vervet)Chlorocebus_aethiops,Chlorocebus_cynosuros,(Chlorocebus_pygerythrus_hilgerti,Chlorocebus_pygerythrus_pygerythrus)Chlorocebus_pygerythrus,Chlorocebus_sabaeus,Chlorocebus_sp._MAS-2011,(Chlorocebus_tantalus_budgetti)Chlorocebus_tantalus)Chlorocebus,(Erythrocebus_patas)Erythrocebus,((Lophocebus_albigena_albigena)Lophocebus_albigena,Lophocebus_aterrimus)Lophocebus,(Macaca_arctoides,Macaca_assamensis,Macaca_balantak,Macaca_balantak_x_tonkeana,Macaca_brunnescens,Macaca_cyclopis,(Macaca_fascicularis_philippinensis)Macaca_fascicularis,(Macaca_fuscata_fuscata,Macaca_fuscata_yakui)Macaca_fuscata,Macaca_hecki,Macaca_hecki_x_tonkeana,Macaca_leonina,Macaca_maura,Macaca_maura_x_tonkeana,Macaca_mulatta,Macaca_munzala,(Macaca_nemestrina_leonina,Macaca_nemestrina_nemestrina,Macaca_nemestrina_siberu)Macaca_nemestrina,Macaca_nigra,Macaca_nigrescens,Macaca_ochreata,Macaca_pagensis,(Macaca_radiata_radiata)Macaca_radiata,Macaca_siberu,Macaca_silenus,Macaca_sinica,Macaca_sp.,Macaca_speciosa,Macaca_sylvanus,(Macaca_thibetana_thibetana)Macaca_thibetana,Macaca_tonkeana)Macaca,(Mandrillus_leucophaeus,Mandrillus_sphinx)Mandrillus,(Miopithecus_ogouensis,(Miopithecus_talapoin_talapoin)Miopithecus_talapoin)Miopithecus,((Papio_anubis_anubis)Papio_anubis,(Papio_cynocephalus_cynocephalus,Papio_cynocephalus_ibeanus)Papio_cynocephalus,Papio_cynocephalus_x_Papio_anubis,(Papio_hamadryas_hamadryas)Papio_hamadryas,Papio_kindae,Papio_papio,Papio_sp.,Papio_sp._Africa-2004,Papio_sp._PS-2007,(Papio_ursinus_ursinus)Papio_ursinus)Papio,(Rungwecebus_kipunji)Rungwecebus,(Theropithecus_gelada)Theropithecus)Cercopithecinae,(((Colobus_angolensis_palliatus)Colobus_angolensis,(Colobus_guereza_caudatus,Colobus_guereza_kikuyuensis,Colobus_guereza_matschiei,Colobus_guereza_occidentalis)Colobus_guereza,Colobus_polykomos,(Colobus_satanas_satanas)Colobus_satanas,Colobus_sp.,Colobus_sp._DTG-2004,Colobus_sp._MB-2005,Colobus_vellerosus,Colobus_vellerosus_x_angolensis)Colobus,(Nasalis_concolor,Nasalis_larvatus)Nasalis,((Piliocolobus_badius_badius,Piliocolobus_badius_temminckii)Piliocolobus_badius,Piliocolobus_foai,Piliocolobus_gordonorum,Piliocolobus_kirkii,Piliocolobus_pennantii,Piliocolobus_preussi,Piliocolobus_rufomitratus,Piliocolobus_tephrosceles,Piliocolobus_tholloni)Piliocolobus,(Presbytis_chrysomelas,(Presbytis_comata_comata,Presbytis_comata_fredericae)Presbytis_comata,Presbytis_femoralis,Presbytis_frontata,(Presbytis_hosei_hosei)Presbytis_hosei,(Presbytis_melalophos_bicolor,Presbytis_melalophos_melalophos,Presbytis_melalophos_mitrata,Presbytis_melalophos_sumatranus)Presbytis_melalophos,(Presbytis_potenziani_potenziani,Presbytis_potenziani_siberu)Presbytis_potenziani,(Presbytis_rubicunda_rubicunda)Presbytis_rubicunda,Presbytis_senex,Presbytis_thomasi)Presbytis,(Procolobus_verus)Procolobus,(Pygathrix_cinerea,Pygathrix_cinerea_1_RL-2012,Pygathrix_cinerea_2_RL-2012,(Pygathrix_nemaeus_nemaeus)Pygathrix_nemaeus,Pygathrix_nigripes)Pygathrix,(Rhinopithecus_avunculus,Rhinopithecus_bieti,Rhinopithecus_bieti_1_RL-2012,Rhinopithecus_bieti_2_RL-2012,Rhinopithecus_brelichi,Rhinopithecus_roxellana,Rhinopithecus_strykeri)Rhinopithecus,((Semnopithecus_entellus_entellus,Semnopithecus_entellus_hector,Semnopithecus_entellus_priam)Semnopithecus_entellus,Semnopithecus_hector)Semnopithecus,((Trachypithecus_auratus_auratus,Trachypithecus_auratus_mauritius)Trachypithecus_auratus,Trachypithecus_barbei,(Trachypithecus_cristata_pyrrhus)Trachypithecus_cristatus,Trachypithecus_delacouri,(Trachypithecus_francoisi_francoisi)Trachypithecus_francoisi,Trachypithecus_francoisi_x_poliocephalus,Trachypithecus_geei,Trachypithecus_germaini,Trachypithecus_hatinhensis,Trachypithecus_johnii,Trachypithecus_laotum,Trachypithecus_obscurus,(Trachypithecus_phayrei_crepusculus,Trachypithecus_phayrei_holotephreus,Trachypithecus_phayrei_phayrei)Trachypithecus_phayrei,Trachypithecus_pileatus,(Trachypithecus_poliocephalus_leucocephalus,Trachypithecus_poliocephalus_poliocephalus)Trachypithecus_poliocephalus,Trachypithecus_shortridgei,Trachypithecus_sp.,(Trachypithecus_vetulus_vetulus)Trachypithecus_vetulus)Trachypithecus)Colobinae)Cercopithecidae)Cercopithecoidea,(((((Gorilla_beringei_beringei,Gorilla_beringei_graueri)Gorilla_beringei,(Gorilla_gorilla_diehli,Gorilla_gorilla_gorilla,Gorilla_gorilla_uellensis)Gorilla_gorilla)Gorilla,((Homo_sapiens_neanderthalensis)Homo_sapiens,Homo_sp._Altai)Homo,(Pan_paniscus,(Pan_troglodytes_ellioti,Pan_troglodytes_schweinfurthii,Pan_troglodytes_troglodytes,Pan_troglodytes_vellerosus,Pan_troglodytes_verus)Pan_troglodytes)Pan)Homininae,((Pongo_abelii,Pongo_abelii_x_pygmaeus,(Pongo_pygmaeus_pygmaeus)Pongo_pygmaeus,Pongo_sp.)Pongo)Ponginae)Hominidae,((Hoolock_hoolock,Hoolock_leuconedys)Hoolock,((Hylobates_agilis_agilis,Hylobates_agilis_unko)Hylobates_agilis,Hylobates_alibarbis,Hylobates_klossii,(Hylobates_lar_carpenteri,Hylobates_lar_entelloides,Hylobates_lar_lar,Hylobates_lar_vestitus)Hylobates_lar,Hylobates_moloch,(Hylobates_muelleri_abbotti,Hylobates_muelleri_funereus,Hylobates_muelleri_muelleri)Hylobates_muelleri,Hylobates_pileatus,Hylobates_sp.,Hylobates_sp._AMA-2004,Hylobates_sp._ECACC_MLA144,Hylobates_sp._IGL-2004,Hylobates_sp._PS-2007,Hylobates_sp._TIB-201)Hylobates,((Nomascus_concolor_concolor,Nomascus_concolor_furvogaster,Nomascus_concolor_jingdongensis,Nomascus_concolor_lu)Nomascus_concolor,Nomascus_gabriellae,Nomascus_hainanus,Nomascus_leucogenys,Nomascus_nasutus,Nomascus_siki)Nomascus,((Symphalangus_syndactylus_syndactylus)Symphalangus_syndactylus)Symphalangus)Hylobatidae)Hominoidea)Catarrhini;\n"
       ]
      }
     ],
     "prompt_number": 4
    },
    {
     "cell_type": "markdown",
     "metadata": {},
     "source": [
      "Ok, it's a bit large, but by looking at the root node's label..."
     ]
    },
    {
     "cell_type": "code",
     "collapsed": false,
     "input": [
      "%%bash\n",
      "nw_clade ncbi_renamed.nw Homo Macaca | nw_labels -r -"
     ],
     "language": "python",
     "metadata": {},
     "outputs": [
      {
       "output_type": "stream",
       "stream": "stdout",
       "text": [
        "Catarrhini\n"
       ]
      }
     ],
     "prompt_number": 7
    },
    {
     "cell_type": "markdown",
     "metadata": {},
     "source": [
      "why, it's our good friends the Old World primates, except that _this_ tree is complete (as far as the NCBI knows). This also works with a single label. Any dinosaurs in the NCBI taxonomy?"
     ]
    },
    {
     "cell_type": "code",
     "collapsed": false,
     "input": [
      "%%bash\n",
      "nw_clade ncbi_renamed.nw Dinosauria | nw_trim -a - 4 | nw_display -"
     ],
     "language": "python",
     "metadata": {},
     "outputs": [
      {
       "output_type": "stream",
       "stream": "stderr",
       "text": [
        "No such file or directory\n"
       ]
      }
     ],
     "prompt_number": 1
    },
    {
     "cell_type": "markdown",
     "metadata": {},
     "source": [
      "No surprise in finding the birds here (_Aves_), but I didn't expect T-rex in a sequence database. Oh well."
     ]
    },
    {
     "cell_type": "code",
     "collapsed": false,
     "input": [],
     "language": "python",
     "metadata": {},
     "outputs": []
    }
   ],
   "metadata": {}
  }
 ]
}
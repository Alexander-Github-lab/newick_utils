{
 "metadata": {
  "name": "Newick Utilities",
  "signature": "sha256:e5ac2fd8b4f052cd9971b6c0fd874360474a08cbdd57eb0d8fa33f32020436b9"
 },
 "nbformat": 3,
 "nbformat_minor": 0,
 "worksheets": [
  {
   "cells": [
    {
     "cell_type": "markdown",
     "metadata": {},
     "source": [
      "# An Interactive tour of the Newick Utilities"
     ]
    },
    {
     "cell_type": "markdown",
     "metadata": {},
     "source": [
      "This document is an [IPython notebook](http://ipython.org/ipython-doc/stable/notebook/index.html). It mixes explanatory text and _code cells_ where you can try out commands interactively.\n",
      "\n",
      "The Newick Utilities are available from:\n",
      "\n",
      "* [http://github.com/tjunier/newick_utils](http://github.com/tjunier/newick_utilities) - latest\n",
      "  * [manual](https://github.com/tjunier/newick_utils/blob/master/doc/manual.pdf)\n",
      "* [http://cegg.unige.ch/newick_utils](http://cegg.unige.ch/newick_utils) - Older, binaries"
     ]
    },
    {
     "cell_type": "markdown",
     "metadata": {},
     "source": [
      "## Contents\n",
      "* Installing\n",
      "* Basics\n",
      "* Simple Operations\n",
      "* Large numbers of Trees\n",
      "* Large trees"
     ]
    },
    {
     "cell_type": "markdown",
     "metadata": {},
     "source": [
      "## Basics"
     ]
    },
    {
     "cell_type": "markdown",
     "metadata": {},
     "source": [
      "The Newick Utilities are a set of Unix programs for rapidly **processing** phylogenetic trees.\n",
      "\n",
      "They perform tasks such as:\n",
      "\n",
      "* rooting, re-rooting and de-rooting\n",
      "* extracting  clades and finding common ancestors\n",
      "* extracting topology\n",
      "* ordering\n",
      "* computing bootstrap support\n",
      "* extracting branch lengths\n",
      "* simplifying\n",
      "* general edition\n",
      "* ...\n",
      "* displaying\n",
      "\n",
      "\n",
      "They were designed to:\n",
      "\n",
      "* handle **any number of trees of any size**\n",
      "* **facilitate automation**\n",
      "* be reasonably fast\n",
      "\n",
      "$\\rightarrow$  they have a **command-line interface** (CLI), that is, they work in the shell, just like `ls`, `grep`, and countless other programs (type `Shift-Enter` or `Ctrl-Enter` to run a cell):"
     ]
    },
    {
     "cell_type": "code",
     "collapsed": false,
     "input": [
      "ls -l\n"
     ],
     "language": "python",
     "metadata": {},
     "outputs": []
    },
    {
     "cell_type": "markdown",
     "metadata": {},
     "source": [
      "\n",
      "\n",
      "As a first example, let's look at a tree. Consider this phylogeny of (Old-world) primates:"
     ]
    },
    {
     "cell_type": "code",
     "collapsed": false,
     "input": [
      "cat catarrhini"
     ],
     "language": "python",
     "metadata": {},
     "outputs": []
    },
    {
     "cell_type": "markdown",
     "metadata": {},
     "source": [
      "For humans, this is unreadable... so let's display it as a graph:\n",
      "(**note**: the `%%bash` part is ipython syntax, not Bash! In a shell you don't need this.)"
     ]
    },
    {
     "cell_type": "code",
     "collapsed": false,
     "input": [
      "%%bash  \n",
      "nw_display catarrhini "
     ],
     "language": "python",
     "metadata": {},
     "outputs": []
    },
    {
     "cell_type": "markdown",
     "metadata": {},
     "source": [
      "`nw_display` can do much more than this, and we'll go back to it later. For now, let's see some general features of the Newick Utilities."
     ]
    },
    {
     "cell_type": "heading",
     "level": 3,
     "metadata": {},
     "source": [
      "Help"
     ]
    },
    {
     "cell_type": "markdown",
     "metadata": {},
     "source": [
      "All the utilities accept option `-h`, which prints a help page and exits:"
     ]
    },
    {
     "cell_type": "code",
     "collapsed": false,
     "input": [
      "%%bash\n",
      "nw_display -h | head -15"
     ],
     "language": "python",
     "metadata": {},
     "outputs": []
    },
    {
     "cell_type": "heading",
     "level": 3,
     "metadata": {},
     "source": [
      "Syntax"
     ]
    },
    {
     "cell_type": "markdown",
     "metadata": {},
     "source": [
      "`$ <nw_util> [options] <tree-file> [other arguments]`\n",
      "\n",
      "That is:\n",
      "\n",
      "1. possibly some options\n",
      "2. **tree filename** (or `-` for standard input)\n",
      "3. possiby other arguments\n",
      "\n",
      "The tree file must contain Newick-formatted trees."
     ]
    },
    {
     "cell_type": "code",
     "collapsed": false,
     "input": [
      "%%bash\n",
      "nw_display catarrhini # simple"
     ],
     "language": "python",
     "metadata": {},
     "outputs": []
    },
    {
     "cell_type": "code",
     "collapsed": false,
     "input": [
      "%%bash\n",
      "cat catarrhini | nw_display - # or nw_display - < catarrhini"
     ],
     "language": "python",
     "metadata": {},
     "outputs": []
    },
    {
     "cell_type": "markdown",
     "metadata": {},
     "source": [
      "In typical Unix style, *options* alter the program's behaviour:"
     ]
    },
    {
     "cell_type": "code",
     "collapsed": false,
     "input": [
      "%%bash\n",
      "nw_display -w 40 catarrhini # -w changes the width"
     ],
     "language": "python",
     "metadata": {},
     "outputs": []
    },
    {
     "cell_type": "heading",
     "level": 3,
     "metadata": {},
     "source": [
      "Filter Behaviour"
     ]
    },
    {
     "cell_type": "markdown",
     "metadata": {},
     "source": [
      "The utilities:\n",
      "\n",
      "* write to standard output\n",
      "* (can) read from standard input (Newick-formatted trees)\n",
      "* read and write text (including SVG and Newick)\n",
      "\n",
      "This means that they are **Unix shell filters**, and can be strung into shell pipelines, and mixed with other filters. For example, suppose we want to make sure that there are no duplicates among a tree's labels. We can use the usual shell tools for that."
     ]
    },
    {
     "cell_type": "code",
     "collapsed": true,
     "input": [
      "%%bash\n",
      "nw_labels hiv_nonredundant.nw | sort | uniq -d # try hiv_redundant.nw as well..."
     ],
     "language": "python",
     "metadata": {},
     "outputs": [
      {
       "output_type": "stream",
       "stream": "stdout",
       "text": [
        "00000670\n",
        "00000585\n",
        "00000636\n",
        "00000603\n",
        "00000602\n",
        "00000534\n",
        "00000864\n",
        "00000724\n",
        "00000726\n",
        "00000727\n",
        "00000725\n",
        "00000723\n",
        "00000541\n",
        "00000295\n",
        "00000716\n",
        "00000413\n",
        "00000412\n",
        "00000410\n",
        "00000411\n",
        "00000759\n",
        "00000324\n",
        "00000480\n",
        "00000764\n",
        "00000491\n",
        "00000763\n",
        "00000357\n",
        "00000613\n",
        "00000612\n",
        "00000415\n",
        "00000278\n",
        "00000374\n",
        "00000306\n",
        "00000581\n",
        "00000508\n",
        "00000507\n",
        "00000485\n",
        "00000344\n",
        "00000792\n",
        "00000354\n",
        "00000349\n",
        "00000343\n",
        "00000322\n",
        "00000334\n",
        "00000383\n",
        "00000543\n",
        "00000630\n",
        "00000314\n",
        "00000313\n",
        "00000384\n",
        "00000353\n",
        "00000756\n",
        "00000601\n",
        "00000600\n",
        "00000599\n",
        "00000339\n",
        "00000433\n",
        "00000300\n",
        "00000299\n",
        "00000329\n",
        "00000284\n",
        "00000283\n",
        "00000282\n",
        "00000706\n",
        "00000576\n",
        "00000478\n",
        "00000425\n",
        "00000424\n",
        "00000371\n",
        "00000824\n",
        "00000701\n",
        "00000626\n",
        "00000325\n",
        "00000303\n",
        "00000302\n",
        "00000301\n",
        "00000686\n",
        "00000348\n",
        "00000617\n",
        "00000616\n",
        "00000550\n",
        "00000317\n",
        "00000681\n",
        "00000592\n",
        "00000561\n",
        "00000560\n",
        "00000336\n",
        "00000335\n",
        "00000841\n",
        "00000840\n",
        "00000839\n",
        "00000838\n",
        "00000683\n",
        "00000538\n",
        "00000798\n",
        "00000438\n",
        "00000333\n",
        "00000589\n",
        "00000337\n",
        "00000432\n",
        "00000377\n",
        "00000429\n",
        "00000427\n",
        "00000305\n",
        "00000699\n",
        "00000794\n",
        "00000286\n",
        "00000285\n",
        "00000635\n",
        "00000575\n",
        "00000428\n",
        "00000644\n",
        "00000347\n",
        "00000434\n",
        "00000422\n",
        "00000421\n",
        "00000512\n",
        "00000511\n",
        "00000509\n",
        "00000510\n",
        "00000323\n",
        "00000554\n",
        "00000553\n",
        "00000355\n",
        "00000304\n",
        "00000629\n",
        "00000486\n",
        "00000326\n",
        "00000819\n",
        "00000818\n",
        "00000817\n",
        "00000816\n",
        "00000372\n",
        "00000653\n",
        "00000652\n",
        "00000805\n",
        "00000251\n",
        "00000631\n",
        "00000760\n",
        "00000737\n",
        "00000292\n",
        "00000757\n",
        "00000531\n",
        "00000533\n",
        "00000341\n",
        "00000628\n",
        "00000437\n",
        "00000465\n",
        "00000464\n",
        "00000868\n",
        "00000472\n",
        "00000658\n",
        "00000657\n",
        "00000656\n",
        "00000445\n",
        "00000444\n",
        "00000443\n",
        "00000442\n",
        "00000375\n",
        "00000328\n",
        "00000668\n",
        "00000298\n",
        "00000536\n",
        "00000352\n",
        "00000671\n",
        "00000476\n",
        "00000475\n",
        "00000380\n",
        "00000679\n",
        "00000327\n",
        "00000391\n",
        "00000392\n",
        "00000393\n",
        "00000390\n",
        "00000389\n",
        "00000394\n",
        "00000307\n",
        "00000426\n",
        "00000709\n",
        "00000430\n",
        "00000276\n",
        "00000369\n",
        "00000368\n",
        "00000001\n",
        "00000848\n",
        "00000861\n",
        "00000844\n",
        "00000539\n",
        "00000843\n",
        "00000842\n",
        "00000637\n",
        "00000546\n",
        "00000345\n",
        "00000287\n",
        "00000577\n",
        "00000739\n",
        "00000718\n",
        "00000388\n",
        "00000331\n",
        "00000847\n",
        "00000735\n",
        "00000484\n",
        "00000340\n",
        "00000688\n",
        "00000358\n",
        "00000359\n",
        "00000361\n",
        "00000363\n",
        "00000364\n",
        "00000362\n",
        "00000360\n",
        "00000439\n",
        "00000633\n",
        "00000598\n",
        "00000597\n",
        "00000350\n",
        "00000692\n",
        "00000691\n",
        "00000690\n",
        "00000624\n",
        "00000467\n",
        "00000466\n",
        "00000797\n",
        "00000830\n",
        "00000776\n",
        "00000773\n",
        "00000774\n",
        "00000775\n",
        "00000556\n",
        "00000768\n",
        "00000767\n",
        "00000766\n",
        "00000765\n",
        "00000754\n",
        "00000639\n",
        "00000783\n",
        "00000780\n",
        "00000487\n",
        "00000779\n",
        "00000778\n",
        "00000781\n",
        "00000782\n",
        "00000580\n",
        "00000800\n",
        "00000573\n",
        "00000772\n",
        "00000771\n",
        "00000831\n",
        "00000698\n",
        "00000697\n",
        "00000547\n",
        "00000647\n",
        "00000648\n",
        "00000758\n",
        "00000802\n",
        "00000704\n",
        "00000330\n",
        "00000545\n",
        "00000463\n",
        "00000462\n",
        "00000461\n",
        "00000459\n",
        "00000460\n",
        "00000634\n",
        "00000587\n",
        "00000660\n",
        "00000625\n",
        "00000730\n",
        "00000729\n",
        "00000470\n",
        "00000860\n",
        "00000527\n",
        "00000471\n",
        "00000277\n",
        "00000793\n",
        "00000770\n",
        "00000769\n",
        "00000318\n",
        "00000267\n",
        "00000740\n",
        "00000711\n",
        "00000742\n",
        "00000741\n",
        "00000787\n",
        "00000786\n",
        "00000520\n",
        "00000519\n",
        "00000518\n",
        "00000504\n",
        "00000503\n",
        "00000500\n",
        "00000502\n",
        "00000501\n",
        "00000499\n",
        "00000588\n",
        "00000321\n",
        "00000640\n",
        "00000441\n",
        "00000799\n",
        "00000870\n",
        "00000710\n",
        "00000849\n",
        "00000700\n",
        "00000535\n",
        "00000801\n",
        "00000367\n",
        "00000366\n",
        "00000365\n",
        "00000752\n",
        "00000750\n",
        "00000751\n",
        "00000856\n",
        "00000855\n",
        "00000808\n",
        "00000809\n",
        "00000812\n",
        "00000810\n",
        "00000811\n",
        "00000676\n",
        "00000713\n",
        "00000851\n",
        "00000458\n",
        "00000457\n",
        "00000456\n",
        "00000455\n",
        "00000854\n",
        "00000853\n",
        "00000846\n",
        "00000761\n",
        "00000753\n",
        "00000650\n",
        "00000649\n",
        "00000611\n",
        "00000610\n",
        "00000707\n",
        "00000685\n",
        "00000618\n",
        "00000316\n",
        "00000755\n",
        "00000574\n",
        "00000762\n",
        "00000806\n",
        "00000721\n",
        "00000815\n",
        "00000814\n",
        "00000310\n",
        "00000483\n",
        "00000835\n",
        "00000549\n",
        "00000836\n",
        "00000479\n",
        "00000288\n",
        "00000241\n",
        "00000240\n",
        "00000238\n",
        "00000235\n",
        "00000239\n",
        "00000236\n",
        "00000230\n",
        "00000244\n",
        "00000245\n",
        "00000247\n",
        "00000246\n",
        "00000237\n",
        "00000243\n",
        "00000242\n",
        "00000232\n",
        "00000234\n",
        "00000233\n",
        "00000673\n",
        "00000833\n",
        "00000832\n",
        "00000376\n",
        "00000381\n",
        "00000273\n",
        "00000823\n",
        "00000821\n",
        "00000820\n",
        "00000822\n",
        "00000320\n",
        "00000319\n",
        "00000646\n",
        "00000645\n",
        "00000745\n",
        "00000744\n",
        "00000743\n",
        "00000482\n",
        "00000342\n",
        "00000517\n",
        "00000516\n",
        "00000708\n",
        "00000555\n",
        "00000642\n",
        "00000281\n",
        "00000477\n",
        "00000382\n",
        "00000651\n",
        "00000525\n",
        "00000524\n",
        "00000827\n",
        "00000789\n",
        "00000788\n",
        "00000542\n",
        "00000684\n",
        "00000396\n",
        "00000395\n",
        "00000674\n",
        "00000523\n",
        "00000522\n",
        "00000521\n",
        "00000852\n",
        "00000869\n",
        "00000551\n",
        "00000803\n",
        "00000606\n",
        "00000605\n",
        "00000604\n",
        "00000607\n",
        "00000608\n",
        "00000609\n",
        "00000537\n",
        "00000828\n",
        "00000356\n",
        "00000804\n",
        "00000385\n",
        "00000873\n",
        "00000680\n",
        "00000489\n",
        "00000641\n",
        "00000866\n",
        "00000791\n",
        "00000790\n",
        "00000420\n",
        "00000419\n",
        "00000862\n",
        "00000702\n",
        "00000689\n",
        "00000867\n",
        "00000677\n",
        "00000619\n",
        "00000717\n",
        "00000623\n",
        "00000638\n",
        "00000845\n",
        "00000795\n",
        "00000874\n",
        "00000865\n",
        "00000871\n",
        "00000850\n",
        "00000872\n",
        "00000863\n",
        "00000594\n",
        "00000593\n",
        "00000796\n",
        "00000540\n",
        "00000401\n",
        "00000402\n",
        "00000406\n",
        "00000405\n",
        "00000407\n",
        "00000404\n",
        "00000403\n",
        "00000825\n",
        "00000370\n",
        "00000488\n",
        "00000529\n",
        "00000663\n",
        "00000662\n",
        "00000661\n",
        "00000423\n",
        "00000596\n",
        "00000595\n",
        "00000705\n",
        "00000627\n",
        "00000583\n",
        "00000747\n",
        "00000746\n",
        "00000672\n",
        "00000571\n",
        "00000714\n",
        "00000548\n",
        "00000450\n",
        "00000449\n",
        "00000451\n",
        "00000454\n",
        "00000453\n",
        "00000446\n",
        "00000447\n",
        "00000448\n",
        "00000452\n",
        "00000834\n",
        "00000544\n",
        "00000530\n",
        "00000703\n",
        "00000813\n",
        "00000678\n",
        "00000659\n",
        "00000615\n",
        "00000614\n",
        "00000436\n",
        "00000435\n",
        "00000309\n",
        "00000279\n",
        "00000837\n",
        "00000498\n",
        "00000495\n",
        "00000497\n",
        "00000494\n",
        "00000493\n",
        "00000496\n",
        "00000785\n",
        "00000784\n",
        "00000569\n",
        "00000567\n",
        "00000568\n",
        "00000738\n",
        "00000291\n",
        "00000728\n",
        "00000682\n",
        "00000826\n",
        "00000253\n",
        "00000252\n",
        "00000418\n",
        "00000417\n",
        "00000416\n",
        "00000290\n",
        "00000749\n",
        "00000748\n",
        "00000526\n",
        "00000490\n",
        "00000308\n",
        "00000473\n",
        "00000378\n",
        "00000584\n",
        "00000590\n",
        "00000296\n",
        "00000696\n",
        "00000695\n",
        "00000694\n",
        "00000693\n",
        "00000506\n",
        "00000386\n",
        "00000505\n",
        "00000566\n",
        "00000565\n",
        "00000431\n",
        "00000715\n",
        "00000481\n",
        "00000351\n",
        "00000338\n",
        "00000720\n",
        "00000582\n",
        "00000552\n",
        "00000731\n",
        "00000736\n",
        "00000591\n",
        "00000532\n",
        "00000712\n",
        "00000620\n",
        "00000528\n",
        "00000669\n",
        "00000270\n",
        "00000269\n",
        "00000268\n",
        "00000675\n",
        "00000687\n",
        "00000514\n",
        "00000515\n",
        "00000513\n",
        "00000572\n",
        "00000667\n",
        "00000666\n",
        "00000665\n",
        "00000664\n",
        "00000719\n",
        "00000586\n",
        "00000722\n",
        "00000622\n",
        "00000632\n",
        "00000570\n",
        "00000414\n",
        "00000621\n",
        "00000564\n",
        "00000563\n",
        "00000557\n",
        "00000562\n",
        "00000807\n",
        "00000734\n",
        "00000732\n",
        "00000733\n",
        "00000655\n",
        "00000654\n",
        "00000579\n",
        "00000578\n",
        "00000346\n",
        "00000474\n",
        "00000315\n",
        "00000379\n",
        "00000312\n",
        "00000311\n",
        "00000294\n",
        "00000293\n",
        "00000857\n",
        "00000829\n",
        "00000859\n",
        "00000409\n",
        "00000408\n",
        "00000332\n",
        "00000858\n",
        "00000492\n",
        "00000400\n",
        "00000399\n",
        "00000398\n",
        "00000397\n",
        "00000289\n",
        "00000777\n",
        "00000643\n",
        "00000373\n",
        "00000387\n",
        "00000559\n",
        "00000558\n",
        "00000469\n",
        "00000468\n",
        "00000440\n",
        "00000297\n",
        "00000274\n",
        "00000271\n",
        "00000280\n",
        "00000262\n",
        "00000275\n",
        "00000259\n",
        "00000258\n",
        "00000256\n",
        "00000255\n",
        "00000257\n",
        "00000266\n",
        "00000265\n",
        "00000261\n",
        "00000260\n",
        "00000254\n",
        "00000250\n",
        "00000249\n",
        "00000248\n",
        "00000264\n",
        "00000263\n",
        "00000272\n",
        "00000215\n",
        "00000214\n",
        "00000213\n",
        "00000064\n",
        "00000062\n",
        "00000077\n",
        "00000071\n",
        "00000065\n",
        "00000080\n",
        "00000079\n",
        "00000086\n",
        "00000085\n",
        "00000084\n",
        "00000087\n",
        "00000083\n",
        "00000082\n",
        "00000069\n",
        "00000068\n",
        "00000067\n",
        "00000060\n",
        "00000059\n",
        "00000058\n",
        "00000057\n",
        "00000056\n",
        "00000078\n",
        "00000076\n",
        "00000073\n",
        "00000072\n",
        "00000066\n",
        "00000070\n",
        "00000063\n",
        "00000075\n",
        "00000081\n",
        "00000074\n",
        "00000061\n",
        "00000231\n",
        "00000088\n",
        "00000090\n",
        "00000141\n",
        "00000142\n",
        "00000091\n",
        "00000125\n",
        "00000124\n",
        "00000118\n",
        "00000097\n",
        "00000098\n",
        "00000100\n",
        "00000099\n",
        "00000117\n",
        "00000110\n",
        "00000126\n",
        "00000119\n",
        "00000115\n",
        "00000112\n",
        "00000111\n",
        "00000094\n",
        "00000093\n",
        "00000116\n",
        "00000121\n",
        "00000103\n",
        "00000096\n",
        "00000109\n",
        "00000101\n",
        "00000108\n",
        "00000107\n",
        "00000114\n",
        "00000113\n",
        "00000122\n",
        "00000102\n",
        "00000120\n",
        "00000106\n",
        "00000104\n",
        "00000105\n",
        "00000123\n",
        "00000143\n",
        "00000095\n",
        "00000130\n",
        "00000131\n",
        "00000138\n",
        "00000132\n",
        "00000133\n",
        "00000139\n",
        "00000136\n",
        "00000092\n",
        "00000140\n",
        "00000137\n",
        "00000129\n",
        "00000135\n",
        "00000134\n",
        "00000089\n",
        "00000147\n",
        "00000148\n",
        "00000144\n",
        "00000146\n",
        "00000145\n",
        "00000128\n",
        "00000003\n",
        "00000002\n",
        "00000054\n",
        "00000053\n",
        "00000052\n",
        "00000015\n",
        "00000017\n",
        "00000023\n",
        "00000035\n",
        "00000034\n",
        "00000030\n",
        "00000029\n",
        "00000028\n",
        "00000027\n",
        "00000021\n",
        "00000022\n",
        "00000025\n",
        "00000016\n",
        "00000026\n",
        "00000033\n",
        "00000020\n",
        "00000019\n",
        "00000024\n",
        "00000037\n",
        "00000036\n",
        "00000039\n",
        "00000038\n",
        "00000018\n",
        "00000032\n",
        "00000031\n",
        "00000004\n",
        "00000012\n",
        "00000011\n",
        "00000010\n",
        "00000014\n",
        "00000009\n",
        "00000013\n",
        "00000043\n",
        "00000042\n",
        "00000044\n",
        "00000051\n",
        "00000045\n",
        "00000050\n",
        "00000046\n",
        "00000049\n",
        "00000047\n",
        "00000048\n",
        "00000040\n",
        "00000008\n",
        "00000005\n",
        "00000006\n",
        "00000041\n",
        "00000007\n",
        "00000127\n",
        "00000225\n",
        "00000224\n",
        "00000229\n",
        "00000228\n",
        "00000227\n",
        "00000226\n",
        "00000223\n",
        "00000222\n",
        "00000151\n",
        "00000152\n",
        "00000218\n",
        "00000217\n",
        "00000219\n",
        "00000220\n",
        "00000216\n",
        "00000149\n",
        "00000150\n",
        "00000153\n",
        "00000221\n",
        "00000157\n",
        "00000154\n",
        "00000158\n",
        "00000192\n",
        "00000208\n",
        "00000169\n",
        "00000188\n",
        "00000170\n",
        "00000174\n",
        "00000210\n",
        "00000209\n",
        "00000166\n",
        "00000207\n",
        "00000175\n",
        "00000202\n",
        "00000171\n",
        "00000206\n",
        "00000161\n",
        "00000190\n",
        "00000189\n",
        "00000164\n",
        "00000156\n",
        "00000191\n",
        "00000180\n",
        "00000181\n",
        "00000055\n",
        "00000155\n",
        "00000193\n",
        "00000177\n",
        "00000165\n",
        "00000160\n",
        "00000163\n",
        "00000186\n",
        "00000184\n",
        "00000185\n",
        "00000162\n",
        "00000194\n",
        "00000212\n",
        "00000173\n",
        "00000179\n",
        "00000178\n",
        "00000200\n",
        "00000205\n",
        "00000187\n",
        "00000167\n",
        "00000168\n",
        "00000183\n",
        "00000176\n",
        "00000182\n",
        "00000211\n",
        "00000159\n",
        "00000201\n",
        "00000172\n",
        "00000203\n",
        "00000204\n",
        "00000195\n",
        "00000197\n",
        "00000198\n",
        "00000199\n",
        "00000196\n"
       ]
      }
     ],
     "prompt_number": 4
    },
    {
     "cell_type": "markdown",
     "metadata": {},
     "source": [
      "This is one way in which the Newick utilities facilitate automation. Another is that they can process any number of trees of any size."
     ]
    },
    {
     "cell_type": "markdown",
     "metadata": {},
     "source": [
      "## Installing"
     ]
    },
    {
     "cell_type": "markdown",
     "metadata": {},
     "source": [
      "It's the usual GNU Autotools commands (can also use CMake for those who prefer it):\n",
      "\n",
      "```\n",
      "tar xzf newick_utils-x.y.tar.gz\n",
      "cd newick_utils\n",
      "autoreconf -fi # only needed when cloning from GitHub\n",
      "./configure\n",
      "make\n",
      "make check\n",
      "sudo make install\n",
      "```\n"
     ]
    },
    {
     "cell_type": "heading",
     "level": 2,
     "metadata": {},
     "source": [
      "Simple Operations"
     ]
    },
    {
     "cell_type": "markdown",
     "metadata": {},
     "source": [
      "### SVG Graphics\n",
      "\n",
      "We have already seen how to show a tree in teh shell with `nw_display`. With option `-s`, this program produces SVG:"
     ]
    },
    {
     "cell_type": "code",
     "collapsed": false,
     "input": [
      "%%bash\n",
      "nw_display -s catarrhini > catarrhini.svg"
     ],
     "language": "python",
     "metadata": {},
     "outputs": [],
     "prompt_number": 1
    },
    {
     "cell_type": "code",
     "collapsed": false,
     "input": [
      "from IPython.display import SVG\n",
      "SVG(filename='catarrhini.svg')"
     ],
     "language": "python",
     "metadata": {},
     "outputs": [
      {
       "output_type": "pyout",
       "prompt_number": 2,
       "svg": [
        "<svg height=\"430\" version=\"1.1\" width=\"300\" xmlns=\"http://www.w3.org/2000/svg\" xmlns:xlink=\"http://www.w3.org/1999/xlink\"><defs><style type=\"text/css\"><![CDATA[\n",
        " .leaf-label {font-size:medium;font-family:sans}\n",
        " .inner-label {font-size:small;font-family:sans}\n",
        " .edge-label {font-size:small;font-family:sans}\n",
        "]]></style></defs>\n",
        "<!-- arguments: -s catarrhini  -->\n",
        "<g transform=\"translate(0,20)\"><g style=\"stroke:black;fill:none;stroke-width:1;stroke-linecap:round\"><line class=\"clade_0\" x1=\"118.3077\" x2=\"161.6308\" y1=\"0.0000\" y2=\"0.0000\"/><line class=\"clade_0\" x1=\"145.3846\" x2=\"172.4615\" y1=\"40.0000\" y2=\"40.0000\"/><line class=\"clade_0\" x1=\"145.3846\" x2=\"172.4615\" y1=\"80.0000\" y2=\"80.0000\"/><line class=\"clade_0\" x1=\"145.3846\" x2=\"145.3846\" y1=\"40.0000\" y2=\"80.0000\"/><line class=\"clade_0\" x1=\"118.3077\" x2=\"145.3846\" y1=\"60.0000\" y2=\"60.0000\"/><line class=\"clade_0\" x1=\"118.3077\" x2=\"118.3077\" y1=\"0.0000\" y2=\"60.0000\"/><line class=\"clade_0\" x1=\"77.6923\" x2=\"118.3077\" y1=\"30.0000\" y2=\"30.0000\"/><line class=\"clade_0\" x1=\"77.6923\" x2=\"158.9231\" y1=\"120.0000\" y2=\"120.0000\"/><line class=\"clade_0\" x1=\"77.6923\" x2=\"77.6923\" y1=\"30.0000\" y2=\"120.0000\"/><line class=\"clade_0\" x1=\"37.0769\" x2=\"77.6923\" y1=\"75.0000\" y2=\"75.0000\"/><line class=\"clade_0\" x1=\"37.0769\" x2=\"91.2308\" y1=\"160.0000\" y2=\"160.0000\"/><line class=\"clade_0\" x1=\"37.0769\" x2=\"37.0769\" y1=\"75.0000\" y2=\"160.0000\"/><line class=\"clade_0\" x1=\"10.0000\" x2=\"37.0769\" y1=\"117.5000\" y2=\"117.5000\"/><line class=\"clade_0\" x1=\"158.9231\" x2=\"186.0000\" y1=\"200.0000\" y2=\"200.0000\"/><line class=\"clade_0\" x1=\"158.9231\" x2=\"186.0000\" y1=\"240.0000\" y2=\"240.0000\"/><line class=\"clade_0\" x1=\"158.9231\" x2=\"158.9231\" y1=\"200.0000\" y2=\"240.0000\"/><line class=\"clade_0\" x1=\"104.7692\" x2=\"158.9231\" y1=\"220.0000\" y2=\"220.0000\"/><line class=\"clade_0\" x1=\"104.7692\" x2=\"131.8462\" y1=\"280.0000\" y2=\"280.0000\"/><line class=\"clade_0\" x1=\"104.7692\" x2=\"104.7692\" y1=\"220.0000\" y2=\"280.0000\"/><line class=\"clade_0\" x1=\"37.0769\" x2=\"104.7692\" y1=\"250.0000\" y2=\"250.0000\"/><line class=\"clade_0\" x1=\"50.6154\" x2=\"77.6923\" y1=\"320.0000\" y2=\"320.0000\"/><line class=\"clade_0\" x1=\"50.6154\" x2=\"69.5692\" y1=\"360.0000\" y2=\"360.0000\"/><line class=\"clade_0\" x1=\"50.6154\" x2=\"50.6154\" y1=\"320.0000\" y2=\"360.0000\"/><line class=\"clade_0\" x1=\"37.0769\" x2=\"50.6154\" y1=\"340.0000\" y2=\"340.0000\"/><line class=\"clade_0\" x1=\"37.0769\" x2=\"37.0769\" y1=\"250.0000\" y2=\"340.0000\"/><line class=\"clade_0\" x1=\"10.0000\" x2=\"37.0769\" y1=\"295.0000\" y2=\"295.0000\"/><line class=\"clade_0\" x1=\"10.0000\" x2=\"10.0000\" y1=\"117.5000\" y2=\"295.0000\"/><line x1=\"0\" x2=\"10.0000\" y1=\"206.2500\" y2=\"206.2500\"/></g><g style=\"stroke:none\"><text class=\"leaf-label\" x=\"171.6308\" y=\"4.0000\">Gorilla</text><text class=\"edge-label\" x=\"139.969231\" y=\"-4.000000\">16</text><text class=\"leaf-label\" x=\"182.4615\" y=\"44.0000\">Pan</text><text class=\"edge-label\" x=\"158.923077\" y=\"36.000000\">10</text><text class=\"leaf-label\" x=\"182.4615\" y=\"84.0000\">Homo</text><text class=\"edge-label\" x=\"158.923077\" y=\"76.000000\">10</text><text class=\"inner-label\" x=\"155.3846\" y=\"64.0000\">Hominini</text><text class=\"edge-label\" x=\"131.846154\" y=\"56.000000\">10</text><text class=\"inner-label\" x=\"128.3077\" y=\"34.0000\">Homininae</text><text class=\"edge-label\" x=\"98.000000\" y=\"26.000000\">15</text><text class=\"leaf-label\" x=\"168.9231\" y=\"124.0000\">Pongo</text><text class=\"edge-label\" x=\"118.307692\" y=\"116.000000\">30</text><text class=\"inner-label\" x=\"87.6923\" y=\"79.0000\">Hominidae</text><text class=\"edge-label\" x=\"57.384615\" y=\"71.000000\">15</text><text class=\"leaf-label\" x=\"101.2308\" y=\"164.0000\">Hylobates</text><text class=\"edge-label\" x=\"64.153846\" y=\"156.000000\">20</text><text class=\"edge-label\" x=\"23.538462\" y=\"113.500000\">10</text><text class=\"leaf-label\" x=\"196.0000\" y=\"204.0000\">Macaca</text><text class=\"edge-label\" x=\"172.461538\" y=\"196.000000\">10</text><text class=\"leaf-label\" x=\"196.0000\" y=\"244.0000\">Papio</text><text class=\"edge-label\" x=\"172.461538\" y=\"236.000000\">10</text><text class=\"edge-label\" x=\"131.846154\" y=\"216.000000\">20</text><text class=\"leaf-label\" x=\"141.8462\" y=\"284.0000\">Cercopithecus</text><text class=\"edge-label\" x=\"118.307692\" y=\"276.000000\">10</text><text class=\"inner-label\" x=\"114.7692\" y=\"254.0000\">Cercopithecinae</text><text class=\"edge-label\" x=\"70.923077\" y=\"246.000000\">25</text><text class=\"leaf-label\" x=\"87.6923\" y=\"324.0000\">Simias</text><text class=\"edge-label\" x=\"64.153846\" y=\"316.000000\">10</text><text class=\"leaf-label\" x=\"79.5692\" y=\"364.0000\">Colobus</text><text class=\"edge-label\" x=\"60.092308\" y=\"356.000000\">7</text><text class=\"inner-label\" x=\"60.6154\" y=\"344.0000\">Colobinae</text><text class=\"edge-label\" x=\"43.846154\" y=\"336.000000\">5</text><text class=\"inner-label\" x=\"47.0769\" y=\"299.0000\">Cercopithecidae</text><text class=\"edge-label\" x=\"23.538462\" y=\"291.000000\">10</text></g><g style=\"stroke:black;stroke-width:1\" transform=\"translate(10,410)\"><path d=\"M 0 0 h 176\"/><path d=\"M 0 0 v -7\"/><text style=\"stroke:none;text-anchor:end\" x=\"2\" y=\"-9\">0</text><path d=\"M 54.1538 0 v -7\"/><text style=\"stroke:none;text-anchor:end\" x=\"56.1538\" y=\"-9\">20</text><path d=\"M 108.308 0 v -7\"/><text style=\"stroke:none;text-anchor:end\" x=\"110.308\" y=\"-9\">40</text><path d=\"M 162.462 0 v -7\"/><text style=\"stroke:none;text-anchor:end\" x=\"164.462\" y=\"-9\">60</text><text style=\"font-size:small;stroke:none\" x=\"0\" y=\"-20\">substitutions/site</text></g></g></svg>"
       ],
       "text": [
        "<IPython.core.display.SVG at 0x7fa4c87b3f90>"
       ]
      }
     ],
     "prompt_number": 2
    },
    {
     "cell_type": "markdown",
     "metadata": {},
     "source": [
      "`nw_display` has many options (look at the help page). The SVG mode supports essentially all the text-mode options (when they make sense). Among the SVG-specific options is `-r`, which produces radial trees:"
     ]
    },
    {
     "cell_type": "code",
     "collapsed": false,
     "input": [
      "%%bash\n",
      "nw_display -sr -w 600 catarrhini > catarrhini_radial.svg"
     ],
     "language": "python",
     "metadata": {},
     "outputs": [],
     "prompt_number": 7
    },
    {
     "cell_type": "code",
     "collapsed": false,
     "input": [
      "SVG(filename='catarrhini_radial.svg')"
     ],
     "language": "python",
     "metadata": {},
     "outputs": [
      {
       "output_type": "pyout",
       "prompt_number": 8,
       "svg": [
        "<svg height=\"600\" version=\"1.1\" width=\"600\" xmlns=\"http://www.w3.org/2000/svg\" xmlns:xlink=\"http://www.w3.org/1999/xlink\"><defs><style type=\"text/css\"><![CDATA[\n",
        " .leaf-label {font-size:medium;font-family:sans}\n",
        " .inner-label {font-size:small;font-family:sans}\n",
        " .edge-label {font-size:small;font-family:sans}\n",
        "]]></style></defs>\n",
        "<!-- arguments: -sr -w 600 catarrhini  -->\n",
        "<g transform=\"translate(300,300)\"><g style=\"stroke:black;fill:none;stroke-width:1;stroke-linecap:round\"><line class=\"clade_0\" x1=\"161.6308\" x2=\"118.3077\" y1=\"0.0000\" y2=\"0.0000\"/><line class=\"clade_0\" x1=\"142.6396\" x2=\"120.2448\" y1=\"96.9378\" y2=\"81.7183\"/><line class=\"clade_0\" x1=\"63.4873\" x2=\"53.5196\" y1=\"160.3507\" y2=\"135.1752\"/><path class=\"clade_0\" d=\"M120.2448,81.7183 A145.384615,145.384615 0 0 1 53.5196 135.1752\"/><line class=\"clade_0\" x1=\"90.9007\" x2=\"73.9710\" y1=\"113.4626\" y2=\"92.3309\"/><path class=\"clade_0\" d=\"M118.3077,0.0000 A118.307692,118.307692 0 0 1 73.9710 92.3309\"/><line class=\"clade_0\" x1=\"106.6491\" x2=\"70.0361\" y1=\"51.2122\" y2=\"33.6309\"/><line class=\"clade_0\" x1=\"-34.6680\" x2=\"-16.9481\" y1=\"155.0957\" y2=\"75.8212\"/><path class=\"clade_0\" d=\"M70.0361,33.6309 A77.692308,77.692308 0 0 1 -16.9481 75.8212\"/><line class=\"clade_0\" x1=\"33.9056\" x2=\"16.1807\" y1=\"69.9035\" y2=\"33.3599\"/><line class=\"clade_0\" x1=\"-66.5044\" x2=\"-27.0279\" y1=\"62.4518\" y2=\"25.3809\"/><path class=\"clade_0\" d=\"M16.1807,33.3599 A37.076923,37.076923 0 0 1 -27.0279 25.3809\"/><line class=\"clade_0\" x1=\"-6.7329\" x2=\"-1.8159\" y1=\"36.4605\" y2=\"9.8337\"/><line class=\"clade_0\" x1=\"-183.7100\" x2=\"-156.9665\" y1=\"29.0968\" y2=\"24.8610\"/><line class=\"clade_0\" x1=\"-168.2978\" x2=\"-143.7979\" y1=\"-79.1949\" y2=\"-67.6662\"/><path class=\"clade_0\" d=\"M-156.9665,24.8610 A158.923077,158.923077 0 0 1 -143.7979 -67.6662\"/><line class=\"clade_0\" x1=\"-157.3376\" x2=\"-103.7240\" y1=\"-22.3925\" y2=\"-14.7621\"/><line class=\"clade_0\" x1=\"-67.1152\" x2=\"-53.3319\" y1=\"-113.4855\" y2=\"-90.1793\"/><path class=\"clade_0\" d=\"M-103.7240,-14.7621 A104.769231,104.769231 0 0 1 -53.3319 -90.1793\"/><line class=\"clade_0\" x1=\"-87.1124\" x2=\"-30.8283\" y1=\"-58.2067\" y2=\"-20.5988\"/><line class=\"clade_0\" x1=\"4.8783\" x2=\"3.1782\" y1=\"-77.5390\" y2=\"-50.5155\"/><line class=\"clade_0\" x1=\"42.6395\" x2=\"31.0225\" y1=\"-54.9705\" y2=\"-39.9940\"/><path class=\"clade_0\" d=\"M3.1782,-50.5155 A50.615385,50.615385 0 0 1 31.0225 -39.9940\"/><line class=\"clade_0\" x1=\"17.8913\" x2=\"13.1058\" y1=\"-47.3479\" y2=\"-34.6834\"/><path class=\"clade_0\" d=\"M-30.8283,-20.5988 A37.076923,37.076923 0 0 1 13.1058 -34.6834\"/><line class=\"clade_0\" x1=\"-11.3188\" x2=\"-3.0528\" y1=\"-35.3070\" y2=\"-9.5226\"/><path class=\"clade_0\" d=\"M-1.8159,9.8337 A10.000000,10.000000 0 0 1 -3.0528 -9.5226\"/><line x1=\"0\" x2=\"-9.9796\" y1=\"0\" y2=\"0.6377\"/></g><g style=\"stroke:none\"><text class=\"leaf-label\" transform=\"rotate(0,171.631,0)\" x=\"171.6308\" y=\"0.0000\">Gorilla</text><text class=\"edge-label\" transform=\"rotate(0,139.969,-3)\" x=\"139.9692\" y=\"-3.0000\">16</text><text class=\"leaf-label\" transform=\"rotate(34.2,150.91,102.559)\" x=\"150.9104\" y=\"102.5586\">Pan</text><text class=\"edge-label\" transform=\"rotate(34.2,133.128,86.8468)\" x=\"133.1284\" y=\"86.8468\">10</text><text class=\"leaf-label\" transform=\"rotate(68.4,67.1686,169.648)\" x=\"67.1686\" y=\"169.6484\">Homo</text><text class=\"edge-label\" transform=\"rotate(68.4,61.2928,146.659)\" x=\"61.2928\" y=\"146.6586\">10</text><text class=\"inner-label\" transform=\"rotate(51.3,93.4016,116.584)\" x=\"93.4016\" y=\"116.5843\">Hominini</text><text class=\"edge-label\" transform=\"rotate(51.3,84.7771,101.021)\" x=\"84.7771\" y=\"101.0210\">10</text><text class=\"inner-label\" transform=\"rotate(25.65,110.255,52.9436)\" x=\"110.2549\" y=\"52.9436\">Homininae</text><text class=\"edge-label\" transform=\"rotate(25.65,89.6412,39.7171)\" x=\"89.6412\" y=\"39.7171\">15</text><text class=\"leaf-label\" style=\"text-anchor:end;\" transform=\"rotate(102.600000,-36.8494,164.855) rotate(180,-36.8494,164.855)\" x=\"-36.8494\" y=\"164.8549\">Pongo</text><text class=\"edge-label\" style=\"text-anchor:end;\" transform=\"rotate(102.600000,-28.7358,114.804) rotate(180,-28.7358,114.804)\" x=\"-28.7358\" y=\"114.8040\">30</text><text class=\"inner-label\" transform=\"rotate(64.125,35.6513,73.5025)\" x=\"35.6513\" y=\"73.5025\">Hominidae</text><text class=\"edge-label\" transform=\"rotate(64.125,27.7424,50.3225)\" x=\"27.7424\" y=\"50.3225\">15</text><text class=\"leaf-label\" style=\"text-anchor:end;\" transform=\"rotate(136.800000,-73.7941,69.2972) rotate(180,-73.7941,69.2972)\" x=\"-73.7941\" y=\"69.2972\">Hylobates</text><text class=\"edge-label\" style=\"text-anchor:end;\" transform=\"rotate(136.800000,-48.8198,41.7294) rotate(180,-48.8198,41.7294)\" x=\"-48.8198\" y=\"41.7294\">20</text><text class=\"edge-label\" style=\"text-anchor:end;\" transform=\"rotate(100.462500,-7.22452,22.6023) rotate(180,-7.22452,22.6023)\" x=\"-7.2245\" y=\"22.6023\">10</text><text class=\"leaf-label\" style=\"text-anchor:end;\" transform=\"rotate(171.000000,-193.587,30.6612) rotate(180,-193.587,30.6612)\" x=\"-193.5869\" y=\"30.6612\">Macaca</text><text class=\"edge-label\" style=\"text-anchor:end;\" transform=\"rotate(171.000000,-170.808,24.0159) rotate(180,-170.808,24.0159)\" x=\"-170.8076\" y=\"24.0159\">10</text><text class=\"leaf-label\" style=\"text-anchor:end;\" transform=\"rotate(205.200000,-177.346,-83.4527) rotate(180,-177.346,-83.4527)\" x=\"-177.3461\" y=\"-83.4527\">Papio</text><text class=\"edge-label\" style=\"text-anchor:end;\" transform=\"rotate(205.200000,-154.771,-76.145) rotate(180,-154.771,-76.145)\" x=\"-154.7705\" y=\"-76.1450\">10</text><text class=\"edge-label\" style=\"text-anchor:end;\" transform=\"rotate(188.100000,-130.108,-21.5474) rotate(180,-130.108,-21.5474)\" x=\"-130.1081\" y=\"-21.5474\">20</text><text class=\"leaf-label\" style=\"text-anchor:end;\" transform=\"rotate(239.400000,-72.2056,-122.093) rotate(180,-72.2056,-122.093)\" x=\"-72.2056\" y=\"-122.0929\">Cercopithecus</text><text class=\"edge-label\" style=\"text-anchor:end;\" transform=\"rotate(239.400000,-57.6413,-103.36) rotate(180,-57.6413,-103.36)\" x=\"-57.6413\" y=\"-103.3595\">10</text><text class=\"inner-label\" style=\"text-anchor:end;\" transform=\"rotate(213.750000,-90.4383,-60.4289) rotate(180,-90.4383,-60.4289)\" x=\"-90.4383\" y=\"-60.4289\">Cercopithecinae</text><text class=\"edge-label\" style=\"text-anchor:end;\" transform=\"rotate(213.750000,-57.3037,-41.8972) rotate(180,-57.3037,-41.8972)\" x=\"-57.3037\" y=\"-41.8972\">25</text><text class=\"leaf-label\" transform=\"rotate(273.6,5.50625,-87.5193)\" x=\"5.5062\" y=\"-87.5193\">Simias</text><text class=\"edge-label\" transform=\"rotate(273.6,1.03417,-64.2156)\" x=\"1.0342\" y=\"-64.2156\">10</text><text class=\"leaf-label\" transform=\"rotate(307.8,48.7685,-62.872)\" x=\"48.7685\" y=\"-62.8720\">Colobus</text><text class=\"edge-label\" transform=\"rotate(307.8,34.4605,-49.321)\" x=\"34.4605\" y=\"-49.3210\">7</text><text class=\"inner-label\" transform=\"rotate(290.7,19.3052,-51.0896)\" x=\"19.3052\" y=\"-51.0896\">Colobinae</text><text class=\"edge-label\" transform=\"rotate(290.7,12.6922,-42.076)\" x=\"12.6922\" y=\"-42.0760\">5</text><text class=\"inner-label\" style=\"text-anchor:end;\" transform=\"rotate(252.225000,-12.54,-39.116) rotate(180,-12.54,-39.116)\" x=\"-12.5400\" y=\"-39.1160\">Cercopithecidae</text><text class=\"edge-label\" style=\"text-anchor:end;\" transform=\"rotate(252.225000,-4.32903,-23.3306) rotate(180,-4.32903,-23.3306)\" x=\"-4.3290\" y=\"-23.3306\">10</text></g></g><g style=\"stroke:black;stroke-width:1\" transform=\"translate(10,600)\"><path d=\"M 0 0 h 176\"/><path d=\"M 0 0 v -7\"/><text style=\"stroke:none;text-anchor:end\" x=\"2\" y=\"-9\">0</text><path d=\"M 54.1538 0 v -7\"/><text style=\"stroke:none;text-anchor:end\" x=\"56.1538\" y=\"-9\">20</text><path d=\"M 108.308 0 v -7\"/><text style=\"stroke:none;text-anchor:end\" x=\"110.308\" y=\"-9\">40</text><path d=\"M 162.462 0 v -7\"/><text style=\"stroke:none;text-anchor:end\" x=\"164.462\" y=\"-9\">60</text><text style=\"font-size:small;stroke:none\" x=\"0\" y=\"-20\">substitutions/site</text></g></svg>"
       ],
       "text": [
        "<IPython.core.display.SVG at 0x7fa4c882a050>"
       ]
      }
     ],
     "prompt_number": 8
    },
    {
     "cell_type": "markdown",
     "metadata": {},
     "source": [
      "## Large Trees"
     ]
    },
    {
     "cell_type": "markdown",
     "metadata": {},
     "source": [
      "#### CSS Styling\n",
      "\n",
      "SVG supports CSS styles, and `nw_display` can add CSS styles to an SVG tree. This is done via a _style map_ that specifies arbitrary style for nodes (or whole clades):"
     ]
    },
    {
     "cell_type": "code",
     "collapsed": false,
     "input": [
      "cat css.map"
     ],
     "language": "python",
     "metadata": {},
     "outputs": [
      {
       "output_type": "stream",
       "stream": "stdout",
       "text": [
        "stroke-width:2;stroke:blue \tCLADE Homo Pan\r\n",
        "stroke:red \t\t\tC\tMacaca Cercopithecus\r\n",
        "stroke:#fa7 \t\t\tC\tHomo Hylobates \r\n",
        "stroke:green\tINDIV\tColobus Cercopithecus\r\n"
       ]
      }
     ],
     "prompt_number": 9
    },
    {
     "cell_type": "code",
     "collapsed": false,
     "input": [
      "%%bash\n",
      "nw_display -s -c css.map catarrhini > catarrhini_css.svg"
     ],
     "language": "python",
     "metadata": {},
     "outputs": [],
     "prompt_number": 10
    },
    {
     "cell_type": "code",
     "collapsed": false,
     "input": [
      "SVG(filename='catarrhini_css.svg')"
     ],
     "language": "python",
     "metadata": {},
     "outputs": [
      {
       "output_type": "pyout",
       "prompt_number": 11,
       "svg": [
        "<svg height=\"430\" version=\"1.1\" width=\"300\" xmlns=\"http://www.w3.org/2000/svg\" xmlns:xlink=\"http://www.w3.org/1999/xlink\"><defs><style type=\"text/css\"><![CDATA[\n",
        " .clade_1 {stroke-width:2;stroke:blue}\n",
        " .clade_2 {stroke:red}\n",
        " .clade_3 {stroke:#fa7}\n",
        " .clade_4 {stroke:green}\n",
        " .leaf-label {font-size:medium;font-family:sans}\n",
        " .inner-label {font-size:small;font-family:sans}\n",
        " .edge-label {font-size:small;font-family:sans}\n",
        "]]></style></defs>\n",
        "<!-- arguments: -s -c css.map catarrhini  -->\n",
        "<g transform=\"translate(0,20)\"><g style=\"stroke:black;fill:none;stroke-width:1;stroke-linecap:round\"><line class=\"clade_3\" x1=\"118.3077\" x2=\"161.6308\" y1=\"0.0000\" y2=\"0.0000\"/><line class=\"clade_1\" x1=\"145.3846\" x2=\"172.4615\" y1=\"40.0000\" y2=\"40.0000\"/><line class=\"clade_1\" x1=\"145.3846\" x2=\"172.4615\" y1=\"80.0000\" y2=\"80.0000\"/><line class=\"clade_1\" x1=\"145.3846\" x2=\"145.3846\" y1=\"40.0000\" y2=\"80.0000\"/><line class=\"clade_1\" x1=\"118.3077\" x2=\"145.3846\" y1=\"60.0000\" y2=\"60.0000\"/><line class=\"clade_3\" x1=\"118.3077\" x2=\"118.3077\" y1=\"0.0000\" y2=\"60.0000\"/><line class=\"clade_3\" x1=\"77.6923\" x2=\"118.3077\" y1=\"30.0000\" y2=\"30.0000\"/><line class=\"clade_3\" x1=\"77.6923\" x2=\"158.9231\" y1=\"120.0000\" y2=\"120.0000\"/><line class=\"clade_3\" x1=\"77.6923\" x2=\"77.6923\" y1=\"30.0000\" y2=\"120.0000\"/><line class=\"clade_3\" x1=\"37.0769\" x2=\"77.6923\" y1=\"75.0000\" y2=\"75.0000\"/><line class=\"clade_3\" x1=\"37.0769\" x2=\"91.2308\" y1=\"160.0000\" y2=\"160.0000\"/><line class=\"clade_3\" x1=\"37.0769\" x2=\"37.0769\" y1=\"75.0000\" y2=\"160.0000\"/><line class=\"clade_3\" x1=\"10.0000\" x2=\"37.0769\" y1=\"117.5000\" y2=\"117.5000\"/><line class=\"clade_2\" x1=\"158.9231\" x2=\"186.0000\" y1=\"200.0000\" y2=\"200.0000\"/><line class=\"clade_2\" x1=\"158.9231\" x2=\"186.0000\" y1=\"240.0000\" y2=\"240.0000\"/><line class=\"clade_2\" x1=\"158.9231\" x2=\"158.9231\" y1=\"200.0000\" y2=\"240.0000\"/><line class=\"clade_2\" x1=\"104.7692\" x2=\"158.9231\" y1=\"220.0000\" y2=\"220.0000\"/><line class=\"clade_4\" x1=\"104.7692\" x2=\"131.8462\" y1=\"280.0000\" y2=\"280.0000\"/><line class=\"clade_2\" x1=\"104.7692\" x2=\"104.7692\" y1=\"220.0000\" y2=\"280.0000\"/><line class=\"clade_2\" x1=\"37.0769\" x2=\"104.7692\" y1=\"250.0000\" y2=\"250.0000\"/><line class=\"clade_0\" x1=\"50.6154\" x2=\"77.6923\" y1=\"320.0000\" y2=\"320.0000\"/><line class=\"clade_4\" x1=\"50.6154\" x2=\"69.5692\" y1=\"360.0000\" y2=\"360.0000\"/><line class=\"clade_0\" x1=\"50.6154\" x2=\"50.6154\" y1=\"320.0000\" y2=\"360.0000\"/><line class=\"clade_0\" x1=\"37.0769\" x2=\"50.6154\" y1=\"340.0000\" y2=\"340.0000\"/><line class=\"clade_0\" x1=\"37.0769\" x2=\"37.0769\" y1=\"250.0000\" y2=\"340.0000\"/><line class=\"clade_0\" x1=\"10.0000\" x2=\"37.0769\" y1=\"295.0000\" y2=\"295.0000\"/><line class=\"clade_0\" x1=\"10.0000\" x2=\"10.0000\" y1=\"117.5000\" y2=\"295.0000\"/><line x1=\"0\" x2=\"10.0000\" y1=\"206.2500\" y2=\"206.2500\"/></g><g style=\"stroke:none\"><text class=\"leaf-label\" x=\"171.6308\" y=\"4.0000\">Gorilla</text><text class=\"edge-label\" x=\"139.969231\" y=\"-4.000000\">16</text><text class=\"leaf-label\" x=\"182.4615\" y=\"44.0000\">Pan</text><text class=\"edge-label\" x=\"158.923077\" y=\"36.000000\">10</text><text class=\"leaf-label\" x=\"182.4615\" y=\"84.0000\">Homo</text><text class=\"edge-label\" x=\"158.923077\" y=\"76.000000\">10</text><text class=\"inner-label\" x=\"155.3846\" y=\"64.0000\">Hominini</text><text class=\"edge-label\" x=\"131.846154\" y=\"56.000000\">10</text><text class=\"inner-label\" x=\"128.3077\" y=\"34.0000\">Homininae</text><text class=\"edge-label\" x=\"98.000000\" y=\"26.000000\">15</text><text class=\"leaf-label\" x=\"168.9231\" y=\"124.0000\">Pongo</text><text class=\"edge-label\" x=\"118.307692\" y=\"116.000000\">30</text><text class=\"inner-label\" x=\"87.6923\" y=\"79.0000\">Hominidae</text><text class=\"edge-label\" x=\"57.384615\" y=\"71.000000\">15</text><text class=\"leaf-label\" x=\"101.2308\" y=\"164.0000\">Hylobates</text><text class=\"edge-label\" x=\"64.153846\" y=\"156.000000\">20</text><text class=\"edge-label\" x=\"23.538462\" y=\"113.500000\">10</text><text class=\"leaf-label\" x=\"196.0000\" y=\"204.0000\">Macaca</text><text class=\"edge-label\" x=\"172.461538\" y=\"196.000000\">10</text><text class=\"leaf-label\" x=\"196.0000\" y=\"244.0000\">Papio</text><text class=\"edge-label\" x=\"172.461538\" y=\"236.000000\">10</text><text class=\"edge-label\" x=\"131.846154\" y=\"216.000000\">20</text><text class=\"leaf-label\" x=\"141.8462\" y=\"284.0000\">Cercopithecus</text><text class=\"edge-label\" x=\"118.307692\" y=\"276.000000\">10</text><text class=\"inner-label\" x=\"114.7692\" y=\"254.0000\">Cercopithecinae</text><text class=\"edge-label\" x=\"70.923077\" y=\"246.000000\">25</text><text class=\"leaf-label\" x=\"87.6923\" y=\"324.0000\">Simias</text><text class=\"edge-label\" x=\"64.153846\" y=\"316.000000\">10</text><text class=\"leaf-label\" x=\"79.5692\" y=\"364.0000\">Colobus</text><text class=\"edge-label\" x=\"60.092308\" y=\"356.000000\">7</text><text class=\"inner-label\" x=\"60.6154\" y=\"344.0000\">Colobinae</text><text class=\"edge-label\" x=\"43.846154\" y=\"336.000000\">5</text><text class=\"inner-label\" x=\"47.0769\" y=\"299.0000\">Cercopithecidae</text><text class=\"edge-label\" x=\"23.538462\" y=\"291.000000\">10</text></g><g style=\"stroke:black;stroke-width:1\" transform=\"translate(10,410)\"><path d=\"M 0 0 h 176\"/><path d=\"M 0 0 v -7\"/><text style=\"stroke:none;text-anchor:end\" x=\"2\" y=\"-9\">0</text><path d=\"M 54.1538 0 v -7\"/><text style=\"stroke:none;text-anchor:end\" x=\"56.1538\" y=\"-9\">20</text><path d=\"M 108.308 0 v -7\"/><text style=\"stroke:none;text-anchor:end\" x=\"110.308\" y=\"-9\">40</text><path d=\"M 162.462 0 v -7\"/><text style=\"stroke:none;text-anchor:end\" x=\"164.462\" y=\"-9\">60</text><text style=\"font-size:small;stroke:none\" x=\"0\" y=\"-20\">substitutions/site</text></g></g></svg>"
       ],
       "text": [
        "<IPython.core.display.SVG at 0x7fa4c82c8310>"
       ]
      }
     ],
     "prompt_number": 11
    },
    {
     "cell_type": "markdown",
     "metadata": {},
     "source": [
      "### Rerooting\n",
      "\n",
      "Tree-building programs cannot always find the root of a tree, so you may need to re-root a tree to make sure it is correctly rooted. `nw_reroot` does just that. Here is a tree that is incorrectly rooted:"
     ]
    },
    {
     "cell_type": "code",
     "collapsed": false,
     "input": [
      "%%bash\n",
      "nw_display catarrhini_wrong"
     ],
     "language": "python",
     "metadata": {},
     "outputs": [
      {
       "output_type": "stream",
       "stream": "stdout",
       "text": [
        " /---------------------------------------------------------------+ Homo         \n",
        " |                                                                              \n",
        "=+      /--------------------------------------------------------+ Pan          \n",
        " |      |                                                                       \n",
        " \\------+      /-------------------------------------------------+ Gorilla      \n",
        "        |      |                                                                \n",
        "        \\------+      /------------------------------------------+ Pongo        \n",
        "               |      |                                                         \n",
        "               |      |      /-----------------------------------+ Hylobates    \n",
        "               \\------+      |                                                  \n",
        "                      |      |                     /-------------+ Cercopithecus\n",
        "                      |      |                     |                            \n",
        "                      \\------+              /------+      /------+ Macaca       \n",
        "                             |              |      \\------+                     \n",
        "                             |       /------+             \\------+ Papio        \n",
        "                             |       |      |                                   \n",
        "                             \\-------+      \\--------------------+ Simias       \n",
        "                                     |                                          \n",
        "                                     \\---------------------------+ Cebus        \n",
        "                                                                                \n"
       ]
      }
     ],
     "prompt_number": 13
    },
    {
     "cell_type": "markdown",
     "metadata": {},
     "source": [
      "Do you see the problem?\n",
      "\n",
      "To reroot it, pass the label of the outgroup:"
     ]
    },
    {
     "cell_type": "code",
     "collapsed": false,
     "input": [
      "%%bash\n",
      "nw_reroot catarrhini_wrong Cebus | nw_display -"
     ],
     "language": "python",
     "metadata": {},
     "outputs": [
      {
       "output_type": "stream",
       "stream": "stdout",
       "text": [
        " /---------------------------------------------------------------+ Cebus        \n",
        " |                                                                              \n",
        " |                               /-------------------------------+ Cercopithecus\n",
        " |                               |                                              \n",
        "=+                    /----------+          /--------------------+ Macaca       \n",
        " |                    |          \\----------+                                   \n",
        " |          /---------+                     \\--------------------+ Papio        \n",
        " |          |         |                                                         \n",
        " |          |         \\------------------------------------------+ Simias       \n",
        " \\----------+                                                                   \n",
        "            |         /------------------------------------------+ Hylobates    \n",
        "            |         |                                                         \n",
        "            \\---------+          /-------------------------------+ Pongo        \n",
        "                      |          |                                              \n",
        "                      \\----------+          /--------------------+ Gorilla      \n",
        "                                 |          |                                   \n",
        "                                 \\----------+         /----------+ Pan          \n",
        "                                            \\---------+                         \n",
        "                                                      \\----------+ Homo         \n",
        "                                                                                \n"
       ]
      }
     ],
     "prompt_number": 15
    },
    {
     "cell_type": "markdown",
     "metadata": {},
     "source": [
      "Now what dou you think of the following?"
     ]
    },
    {
     "cell_type": "code",
     "collapsed": false,
     "input": [
      "%%bash\n",
      "nw_display catarrhini_wrong_3og"
     ],
     "language": "python",
     "metadata": {},
     "outputs": [
      {
       "output_type": "stream",
       "stream": "stdout",
       "text": [
        " /---------------------------------------------------------------+ Homo         \n",
        " |                                                                              \n",
        "=+      /--------------------------------------------------------+ Pan          \n",
        " |      |                                                                       \n",
        " \\------+      /-------------------------------------------------+ Gorilla      \n",
        "        |      |                                                                \n",
        "        |      |      /------------------------------------------+ Pongo        \n",
        "        \\------+      |                                                         \n",
        "               |      |      /-----------------------------------+ Hylobates    \n",
        "               \\------+      |                                                  \n",
        "                      |      |                     /-------------+ Cercopithecus\n",
        "                      |      |                     |                            \n",
        "                      \\------+              /------+      /------+ Macaca       \n",
        "                             |              |      \\------+                     \n",
        "                             |       /------+             \\------+ Papio        \n",
        "                             |       |      |                                   \n",
        "                             |       |      \\--------------------+ Simias       \n",
        "                             \\-------+                                          \n",
        "                                     |      /--------------------+ Aotus        \n",
        "                                     |      |                                   \n",
        "                                     \\------+      /-------------+ Pithecia     \n",
        "                                            \\------+                            \n",
        "                                                   \\-------------+ Cebus        \n",
        "                                                                                \n"
       ]
      }
     ],
     "prompt_number": 16
    },
    {
     "cell_type": "markdown",
     "metadata": {},
     "source": [
      "Hint: _Aotus_ (owl monkey) and _Pithecia_ (saki) are also New-World species. \n",
      "\n",
      "`nw_reroot` can also *remove* the root (some programs want an unrooted tree, by which they mean a tree whose root has exactly three children)."
     ]
    },
    {
     "cell_type": "heading",
     "level": 3,
     "metadata": {},
     "source": [
      "Renaming Large Trees"
     ]
    },
    {
     "cell_type": "code",
     "collapsed": false,
     "input": [],
     "language": "python",
     "metadata": {},
     "outputs": []
    },
    {
     "cell_type": "markdown",
     "metadata": {},
     "source": [
      "File `ncbi.tre` contains the NCBI's taxonomy. This is a large file (6.2 Mb), as the scope of the NCBI taxonomy is the whole tree of life. "
     ]
    },
    {
     "cell_type": "code",
     "collapsed": false,
     "input": [
      "ls -lh ncbi*"
     ],
     "language": "python",
     "metadata": {},
     "outputs": []
    },
    {
     "cell_type": "markdown",
     "metadata": {},
     "source": [
      "How many nodes does the tree contain?"
     ]
    },
    {
     "cell_type": "code",
     "collapsed": false,
     "input": [
      "%%bash\n",
      "nw_stats ncbi.tre"
     ],
     "language": "python",
     "metadata": {},
     "outputs": []
    },
    {
     "cell_type": "markdown",
     "metadata": {},
     "source": [
      "About 900,000 nodes, of which about 800,000 are leaves - that means the tree is highly multifurcating."
     ]
    },
    {
     "cell_type": "markdown",
     "metadata": {},
     "source": [
      "A tree of life enables us to ask phylogenetic questions about any clade of our choice, such as\n",
      "* what is the clade defined by speces X and Y?\n",
      "* what is the closest relative of clade X?\n",
      "* do the species in set S form a monophyletic group?\n",
      "\n",
      "Unfortunately, there is a glitch: the original NCBI tree has numerical identifiers, not names:"
     ]
    },
    {
     "cell_type": "code",
     "collapsed": true,
     "input": [
      "%%bash\n",
      "nw_display ncbi.tre | head"
     ],
     "language": "python",
     "metadata": {},
     "outputs": []
    },
    {
     "cell_type": "markdown",
     "metadata": {},
     "source": [
      "This will not be very useful. We'd like to replace those IDs by the corresponding scientific names. This is the purpose of `nw_rename`. It just needs (besides the tree, that is) a _renaming map_, which is just a text file that has the ID -> name mapping for each ID. Thankfully, NCBI also supplies a file that is very close to this:"
     ]
    },
    {
     "cell_type": "code",
     "collapsed": false,
     "input": [
      "%%bash\n",
      "head ncbi.map"
     ],
     "language": "python",
     "metadata": {},
     "outputs": []
    },
    {
     "cell_type": "markdown",
     "metadata": {},
     "source": [
      "With a bit of editing (Awk and Vim) to get rid of problematic characters that can confuse the tree parser, converted this file into a *renaming map* for `nw_rename`:"
     ]
    },
    {
     "cell_type": "code",
     "collapsed": true,
     "input": [
      "%%bash\n",
      "head ncbi_nodeId2name.map"
     ],
     "language": "python",
     "metadata": {},
     "outputs": []
    },
    {
     "cell_type": "markdown",
     "metadata": {},
     "source": [
      "Now I can use this to replace the IDs with names:"
     ]
    },
    {
     "cell_type": "code",
     "collapsed": false,
     "input": [
      "%%bash\n",
      "nw_rename ncbi.tre ncbi_nodeId2name.map > ncbi_renamed.nw"
     ],
     "language": "python",
     "metadata": {},
     "outputs": []
    },
    {
     "cell_type": "code",
     "collapsed": false,
     "input": [
      "%%bash\n",
      "nw_display -w 120 ncbi_renamed.nw | head  # -w 120 b/c default is so compressed as to cause a crash."
     ],
     "language": "python",
     "metadata": {},
     "outputs": []
    },
    {
     "cell_type": "markdown",
     "metadata": {},
     "source": [
      "### Trimming\n",
      "\n",
      "Our tree of life is very large, but we can see its general structure by looking a it \"from the root\". What, for instance, are the main phyla in the tree? "
     ]
    },
    {
     "cell_type": "code",
     "collapsed": false,
     "input": [
      "%%bash\n",
      "nw_trim -a ncbi_renamed.nw 1 | nw_display -"
     ],
     "language": "python",
     "metadata": {},
     "outputs": []
    },
    {
     "cell_type": "markdown",
     "metadata": {},
     "source": [
      "### Extractig  Clades in a Large Tree\n",
      "\n",
      "What are the main clades of cellular organisms? We can use `nw_clade` to extract clades from a tree, based on node labels. At the simplest, it takes a single label and outputs the subtree rooted at that label. Since the tree is large, we have to _trim_ it as well:"
     ]
    },
    {
     "cell_type": "code",
     "collapsed": false,
     "input": [
      "%%bash\n",
      "nw_clade ncbi_renamed.nw cellular_organisms | nw_trim -a - 1 | nw_display - # underscores display as spaces"
     ],
     "language": "python",
     "metadata": {},
     "outputs": []
    },
    {
     "cell_type": "markdown",
     "metadata": {},
     "source": [
      "Well, Carl Woese would be happy. If we choose a node nearer to the leaves (say a genus), we will not have to trim. "
     ]
    },
    {
     "cell_type": "code",
     "collapsed": false,
     "input": [
      "%%bash\n",
      "nw_clade ncbi_renamed.nw Cygnus | nw_display - # trim -a 1 to discard subspecies"
     ],
     "language": "python",
     "metadata": {},
     "outputs": []
    },
    {
     "cell_type": "markdown",
     "metadata": {},
     "source": [
      "### Last Common Ancestor"
     ]
    },
    {
     "cell_type": "markdown",
     "metadata": {},
     "source": [
      "Given two or mode labels, `nw_clade` finds their _last common ancestor_ (LCA) according to the tree, and extracts the subtree rooted at that node.\n",
      "We can now ask questions about the phylogeny of any group of living organisms. For example, what is the clade defined by humans and macaques?"
     ]
    },
    {
     "cell_type": "code",
     "collapsed": false,
     "input": [
      "%%bash \n",
      "nw_clade ncbi_renamed.nw Homo Macaca"
     ],
     "language": "python",
     "metadata": {},
     "outputs": []
    },
    {
     "cell_type": "markdown",
     "metadata": {},
     "source": [
      "Ok, it's a bit large, but by looking at the root node's label..."
     ]
    },
    {
     "cell_type": "code",
     "collapsed": false,
     "input": [
      "%%bash\n",
      "nw_clade ncbi_renamed.nw Homo Macaca | nw_labels -r -"
     ],
     "language": "python",
     "metadata": {},
     "outputs": []
    },
    {
     "cell_type": "markdown",
     "metadata": {},
     "source": [
      "why, it's our good friends the Old World primates, except that _this_ tree is complete (as far as the NCBI knows). This also works with a single label. Any dinosaurs in the NCBI taxonomy?"
     ]
    },
    {
     "cell_type": "code",
     "collapsed": false,
     "input": [
      "%%bash\n",
      "nw_clade ncbi_renamed.nw Dinosauria | nw_trim -a - 4 | nw_display -"
     ],
     "language": "python",
     "metadata": {},
     "outputs": []
    },
    {
     "cell_type": "markdown",
     "metadata": {},
     "source": [
      "No surprise in finding the birds here (_Aves_), but I didn't expect T-rex in a sequence database. Oh well. "
     ]
    },
    {
     "cell_type": "markdown",
     "metadata": {},
     "source": [
      "### Problem: suggesting an outgroup\n",
      "\n",
      "Suppose I have sequences of gene _abcD_ from several species of _Bacillus_, _Clostridium_, _Geobacillus_, and _Desulfotomaculum_. What species would make a suitable outgroup? "
     ]
    },
    {
     "cell_type": "code",
     "collapsed": false,
     "input": [],
     "language": "python",
     "metadata": {},
     "outputs": [],
     "prompt_number": 5
    }
   ],
   "metadata": {}
  }
 ]
}